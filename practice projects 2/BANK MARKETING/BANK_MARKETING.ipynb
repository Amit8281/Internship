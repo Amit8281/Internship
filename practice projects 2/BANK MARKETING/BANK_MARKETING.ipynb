{
 "cells": [
  {
   "cell_type": "markdown",
   "metadata": {
    "id": "BeL95SF4djOb"
   },
   "source": [
    "# BANK MARKETING: Predicting Whether The Customer Will Subscribe To Term Deposit (FIXED DEPOSIT) or not.\n",
    "\n",
    "## Business Use Case\n",
    "There has been a revenue decline for a Portuguese bank and they would like to know what\n",
    "actions to take. After investigation, they found out that the root cause is that their clients are not\n",
    "depositing as frequently as before. Knowing that term deposits allow banks to hold onto a\n",
    "deposit for a specific amount of time, so banks can invest in higher gain financial products to\n",
    "make a profit. In addition, banks also hold better chance to persuade term deposit clients into\n",
    "buying other products such as funds or insurance to further increase their revenues. As a result,\n",
    "the Portuguese bank would like to identify existing clients that have higher chance to subscribe\n",
    "for a term deposit and focus marketing efforts on such clients.\n",
    "\n",
    "## Project Description\n",
    "Your client is a retail banking institution. Term deposits are a major source of income for\n",
    "a bank. A term deposit is a cash investment held at a financial institution. Your money is\n",
    "invested for an agreed rate of interest over a fixed amount of time, or term. The bank\n",
    "has various outreach plans to sell term deposits to their customers such as email\n",
    "marketing, advertisements, telephonic marketing and digital marketing. Telephonic\n",
    "marketing campaigns still remain one of the most effective way to reach out to people.\n",
    "However, they require huge investment as large call centers are hired to actually\n",
    "execute these campaigns. Hence, it is crucial to identify the customers most likely to\n",
    "convert beforehand so that they can be specifically targeted via call.\n",
    "You are provided with the client data such as : age of the client, their job type, their\n",
    "marital status, etc. Along with the client data, you are also provided with the information\n",
    "of the call such as the duration of the call, day and month of the call, etc. Given this\n",
    "information, your task is to predict if the client will subscribe to term deposit.\n",
    "\n",
    "## About The Dataset\n",
    "The dataset is related with direct marketing campaigns (phone calls) of a Portuguese\n",
    "banking institution. The classification goal of this dataset is to predict if the client or the\n",
    "customer of polish banking institution will subscribe a term deposit product of the bank\n",
    "or not.\n",
    "\n",
    "## You are provided with following 2 files:\n",
    "- **train.csv** : Use this dataset to train the model. This file contains all the client\n",
    "and call details as well as the target variable “subscribed”. You have to train your\n",
    "model using this file.\n",
    "- **test.csv** : Use the trained model to predict whether a new set of clients will\n",
    "subscribe the term deposit.\n",
    "\n",
    "## Dataset Attributes\n",
    "Here is the description of all the variables:\n",
    "- Variable: Definition\n",
    "- ID: Unique client ID\n",
    "- age: Age of the client\n",
    "- job: Type of job\n",
    "- marital: Marital status of the client\n",
    "- education: Education level\n",
    "- default: Credit in default.\n",
    "- housing: Housing loan\n",
    "- loan: Personal loan\n",
    "- contact: Type of communication\n",
    "- month: Contact month\n",
    "- day_of_week: Day of week of contact\n",
    "- duration: Contact duration\n",
    "- campaign: number of contacts performed during this campaign to the client\n",
    "- pdays: number of days that passed by after the client was last contacted\n",
    "- previous: number of contacts performed before this campaign\n",
    "- poutcome: outcome of the previous marketing campaign\n",
    "Output variable (desired target):\n",
    "- Subscribed (target): has the client subscribed a term deposit? (YES/NO)\n",
    "\n",
    "## Dataset Link-\n",
    "-  https://github.com/dsrscientist/dataset5\n",
    "-  https://raw.githubusercontent.com/dsrscientist/dataset5/main/termdeposit_train.csv\n",
    "-  https://raw.githubusercontent.com/dsrscientist/dataset5/main/termdeposit_test.csv"
   ]
  },
  {
   "cell_type": "markdown",
   "metadata": {
    "id": "Q8DX1Co9eFeF"
   },
   "source": [
    "## Importing Necessary Libraries"
   ]
  },
  {
   "cell_type": "code",
   "execution_count": 1,
   "metadata": {
    "id": "FgK32mW9ctVs"
   },
   "outputs": [],
   "source": [
    "import pandas as pd\n",
    "import numpy as np\n",
    "import seaborn as sns\n",
    "from scipy.stats import zscore\n",
    "import matplotlib.pyplot as plt\n",
    "%matplotlib inline\n",
    "import pickle\n",
    "import plotly.express as px\n",
    "import plotly.graph_objects as go\n",
    "import plotly.figure_factory as ff\n",
    "from scipy import stats\n",
    "import scipy.stats as stats\n",
    "from scipy.stats import skew\n",
    "from sklearn.preprocessing import LabelEncoder\n",
    "from imblearn.over_sampling import SMOTE\n",
    "from sklearn.preprocessing import StandardScaler\n",
    "from sklearn.model_selection import train_test_split,GridSearchCV,cross_val_score\n",
    "from sklearn.linear_model import LogisticRegression\n",
    "from sklearn.tree import DecisionTreeClassifier\n",
    "from sklearn.svm import SVC\n",
    "from xgboost import XGBClassifier\n",
    "from sklearn.ensemble import RandomForestClassifier,ExtraTreesClassifier\n",
    "from sklearn.neighbors import KNeighborsClassifier\n",
    "from sklearn import metrics\n",
    "from sklearn.metrics import classification_report, confusion_matrix, accuracy_score, precision_score,recall_score, f1_score\n",
    "from sklearn.metrics import roc_auc_score,roc_curve\n",
    "import warnings\n",
    "warnings.filterwarnings('ignore')\n"
   ]
  },
  {
   "cell_type": "markdown",
   "metadata": {
    "id": "1-K8USoOc7UY"
   },
   "source": [
    " https://github.com/dsrscientist/dataset5\n",
    " https://raw.githubusercontent.com/dsrscientist/dataset5/main/termdeposit_train.csv\n",
    " https://raw.githubusercontent.com/dsrscientist/dataset5/main/termdeposit_test.csv"
   ]
  },
  {
   "cell_type": "markdown",
   "metadata": {
    "id": "mL9QLH-BeNGU"
   },
   "source": [
    "## Loading Dataset"
   ]
  },
  {
   "cell_type": "code",
   "execution_count": 2,
   "metadata": {
    "id": "sDsa5aG0c3Zd"
   },
   "outputs": [],
   "source": [
    "# loading the data\n",
    "train = pd.read_csv('termdeposit_train.csv')\n",
    "test = pd.read_csv('termdeposit_test.csv')"
   ]
  },
  {
   "cell_type": "code",
   "execution_count": 3,
   "metadata": {
    "colab": {
     "base_uri": "https://localhost:8080/",
     "height": 488
    },
    "id": "-2hVgMJSc3cP",
    "outputId": "a9f4bf9c-3a56-4631-fcc8-3e9a1f63ece4"
   },
   "outputs": [
    {
     "data": {
      "text/html": [
       "<div>\n",
       "<style scoped>\n",
       "    .dataframe tbody tr th:only-of-type {\n",
       "        vertical-align: middle;\n",
       "    }\n",
       "\n",
       "    .dataframe tbody tr th {\n",
       "        vertical-align: top;\n",
       "    }\n",
       "\n",
       "    .dataframe thead th {\n",
       "        text-align: right;\n",
       "    }\n",
       "</style>\n",
       "<table border=\"1\" class=\"dataframe\">\n",
       "  <thead>\n",
       "    <tr style=\"text-align: right;\">\n",
       "      <th></th>\n",
       "      <th>ID</th>\n",
       "      <th>age</th>\n",
       "      <th>job</th>\n",
       "      <th>marital</th>\n",
       "      <th>education</th>\n",
       "      <th>default</th>\n",
       "      <th>balance</th>\n",
       "      <th>housing</th>\n",
       "      <th>loan</th>\n",
       "      <th>contact</th>\n",
       "      <th>day</th>\n",
       "      <th>month</th>\n",
       "      <th>duration</th>\n",
       "      <th>campaign</th>\n",
       "      <th>pdays</th>\n",
       "      <th>previous</th>\n",
       "      <th>poutcome</th>\n",
       "      <th>subscribed</th>\n",
       "    </tr>\n",
       "  </thead>\n",
       "  <tbody>\n",
       "    <tr>\n",
       "      <th>0</th>\n",
       "      <td>26110</td>\n",
       "      <td>56</td>\n",
       "      <td>admin.</td>\n",
       "      <td>married</td>\n",
       "      <td>unknown</td>\n",
       "      <td>no</td>\n",
       "      <td>1933</td>\n",
       "      <td>no</td>\n",
       "      <td>no</td>\n",
       "      <td>telephone</td>\n",
       "      <td>19</td>\n",
       "      <td>nov</td>\n",
       "      <td>44</td>\n",
       "      <td>2</td>\n",
       "      <td>-1</td>\n",
       "      <td>0</td>\n",
       "      <td>unknown</td>\n",
       "      <td>no</td>\n",
       "    </tr>\n",
       "    <tr>\n",
       "      <th>1</th>\n",
       "      <td>40576</td>\n",
       "      <td>31</td>\n",
       "      <td>unknown</td>\n",
       "      <td>married</td>\n",
       "      <td>secondary</td>\n",
       "      <td>no</td>\n",
       "      <td>3</td>\n",
       "      <td>no</td>\n",
       "      <td>no</td>\n",
       "      <td>cellular</td>\n",
       "      <td>20</td>\n",
       "      <td>jul</td>\n",
       "      <td>91</td>\n",
       "      <td>2</td>\n",
       "      <td>-1</td>\n",
       "      <td>0</td>\n",
       "      <td>unknown</td>\n",
       "      <td>no</td>\n",
       "    </tr>\n",
       "    <tr>\n",
       "      <th>2</th>\n",
       "      <td>15320</td>\n",
       "      <td>27</td>\n",
       "      <td>services</td>\n",
       "      <td>married</td>\n",
       "      <td>secondary</td>\n",
       "      <td>no</td>\n",
       "      <td>891</td>\n",
       "      <td>yes</td>\n",
       "      <td>no</td>\n",
       "      <td>cellular</td>\n",
       "      <td>18</td>\n",
       "      <td>jul</td>\n",
       "      <td>240</td>\n",
       "      <td>1</td>\n",
       "      <td>-1</td>\n",
       "      <td>0</td>\n",
       "      <td>unknown</td>\n",
       "      <td>no</td>\n",
       "    </tr>\n",
       "    <tr>\n",
       "      <th>3</th>\n",
       "      <td>43962</td>\n",
       "      <td>57</td>\n",
       "      <td>management</td>\n",
       "      <td>divorced</td>\n",
       "      <td>tertiary</td>\n",
       "      <td>no</td>\n",
       "      <td>3287</td>\n",
       "      <td>no</td>\n",
       "      <td>no</td>\n",
       "      <td>cellular</td>\n",
       "      <td>22</td>\n",
       "      <td>jun</td>\n",
       "      <td>867</td>\n",
       "      <td>1</td>\n",
       "      <td>84</td>\n",
       "      <td>3</td>\n",
       "      <td>success</td>\n",
       "      <td>yes</td>\n",
       "    </tr>\n",
       "    <tr>\n",
       "      <th>4</th>\n",
       "      <td>29842</td>\n",
       "      <td>31</td>\n",
       "      <td>technician</td>\n",
       "      <td>married</td>\n",
       "      <td>secondary</td>\n",
       "      <td>no</td>\n",
       "      <td>119</td>\n",
       "      <td>yes</td>\n",
       "      <td>no</td>\n",
       "      <td>cellular</td>\n",
       "      <td>4</td>\n",
       "      <td>feb</td>\n",
       "      <td>380</td>\n",
       "      <td>1</td>\n",
       "      <td>-1</td>\n",
       "      <td>0</td>\n",
       "      <td>unknown</td>\n",
       "      <td>no</td>\n",
       "    </tr>\n",
       "    <tr>\n",
       "      <th>...</th>\n",
       "      <td>...</td>\n",
       "      <td>...</td>\n",
       "      <td>...</td>\n",
       "      <td>...</td>\n",
       "      <td>...</td>\n",
       "      <td>...</td>\n",
       "      <td>...</td>\n",
       "      <td>...</td>\n",
       "      <td>...</td>\n",
       "      <td>...</td>\n",
       "      <td>...</td>\n",
       "      <td>...</td>\n",
       "      <td>...</td>\n",
       "      <td>...</td>\n",
       "      <td>...</td>\n",
       "      <td>...</td>\n",
       "      <td>...</td>\n",
       "      <td>...</td>\n",
       "    </tr>\n",
       "    <tr>\n",
       "      <th>31642</th>\n",
       "      <td>36483</td>\n",
       "      <td>29</td>\n",
       "      <td>management</td>\n",
       "      <td>single</td>\n",
       "      <td>tertiary</td>\n",
       "      <td>no</td>\n",
       "      <td>0</td>\n",
       "      <td>yes</td>\n",
       "      <td>no</td>\n",
       "      <td>cellular</td>\n",
       "      <td>12</td>\n",
       "      <td>may</td>\n",
       "      <td>116</td>\n",
       "      <td>2</td>\n",
       "      <td>-1</td>\n",
       "      <td>0</td>\n",
       "      <td>unknown</td>\n",
       "      <td>no</td>\n",
       "    </tr>\n",
       "    <tr>\n",
       "      <th>31643</th>\n",
       "      <td>40178</td>\n",
       "      <td>53</td>\n",
       "      <td>management</td>\n",
       "      <td>divorced</td>\n",
       "      <td>tertiary</td>\n",
       "      <td>no</td>\n",
       "      <td>380</td>\n",
       "      <td>no</td>\n",
       "      <td>yes</td>\n",
       "      <td>cellular</td>\n",
       "      <td>5</td>\n",
       "      <td>jun</td>\n",
       "      <td>438</td>\n",
       "      <td>2</td>\n",
       "      <td>-1</td>\n",
       "      <td>0</td>\n",
       "      <td>unknown</td>\n",
       "      <td>yes</td>\n",
       "    </tr>\n",
       "    <tr>\n",
       "      <th>31644</th>\n",
       "      <td>19710</td>\n",
       "      <td>32</td>\n",
       "      <td>management</td>\n",
       "      <td>single</td>\n",
       "      <td>tertiary</td>\n",
       "      <td>no</td>\n",
       "      <td>312</td>\n",
       "      <td>no</td>\n",
       "      <td>no</td>\n",
       "      <td>cellular</td>\n",
       "      <td>7</td>\n",
       "      <td>aug</td>\n",
       "      <td>37</td>\n",
       "      <td>3</td>\n",
       "      <td>-1</td>\n",
       "      <td>0</td>\n",
       "      <td>unknown</td>\n",
       "      <td>no</td>\n",
       "    </tr>\n",
       "    <tr>\n",
       "      <th>31645</th>\n",
       "      <td>38556</td>\n",
       "      <td>57</td>\n",
       "      <td>technician</td>\n",
       "      <td>married</td>\n",
       "      <td>secondary</td>\n",
       "      <td>no</td>\n",
       "      <td>225</td>\n",
       "      <td>yes</td>\n",
       "      <td>no</td>\n",
       "      <td>telephone</td>\n",
       "      <td>15</td>\n",
       "      <td>may</td>\n",
       "      <td>22</td>\n",
       "      <td>7</td>\n",
       "      <td>337</td>\n",
       "      <td>12</td>\n",
       "      <td>failure</td>\n",
       "      <td>no</td>\n",
       "    </tr>\n",
       "    <tr>\n",
       "      <th>31646</th>\n",
       "      <td>14156</td>\n",
       "      <td>55</td>\n",
       "      <td>management</td>\n",
       "      <td>divorced</td>\n",
       "      <td>secondary</td>\n",
       "      <td>no</td>\n",
       "      <td>204</td>\n",
       "      <td>yes</td>\n",
       "      <td>no</td>\n",
       "      <td>cellular</td>\n",
       "      <td>11</td>\n",
       "      <td>jul</td>\n",
       "      <td>1973</td>\n",
       "      <td>2</td>\n",
       "      <td>-1</td>\n",
       "      <td>0</td>\n",
       "      <td>unknown</td>\n",
       "      <td>yes</td>\n",
       "    </tr>\n",
       "  </tbody>\n",
       "</table>\n",
       "<p>31647 rows × 18 columns</p>\n",
       "</div>"
      ],
      "text/plain": [
       "          ID  age         job   marital  education default  balance housing  \\\n",
       "0      26110   56      admin.   married    unknown      no     1933      no   \n",
       "1      40576   31     unknown   married  secondary      no        3      no   \n",
       "2      15320   27    services   married  secondary      no      891     yes   \n",
       "3      43962   57  management  divorced   tertiary      no     3287      no   \n",
       "4      29842   31  technician   married  secondary      no      119     yes   \n",
       "...      ...  ...         ...       ...        ...     ...      ...     ...   \n",
       "31642  36483   29  management    single   tertiary      no        0     yes   \n",
       "31643  40178   53  management  divorced   tertiary      no      380      no   \n",
       "31644  19710   32  management    single   tertiary      no      312      no   \n",
       "31645  38556   57  technician   married  secondary      no      225     yes   \n",
       "31646  14156   55  management  divorced  secondary      no      204     yes   \n",
       "\n",
       "      loan    contact  day month  duration  campaign  pdays  previous  \\\n",
       "0       no  telephone   19   nov        44         2     -1         0   \n",
       "1       no   cellular   20   jul        91         2     -1         0   \n",
       "2       no   cellular   18   jul       240         1     -1         0   \n",
       "3       no   cellular   22   jun       867         1     84         3   \n",
       "4       no   cellular    4   feb       380         1     -1         0   \n",
       "...    ...        ...  ...   ...       ...       ...    ...       ...   \n",
       "31642   no   cellular   12   may       116         2     -1         0   \n",
       "31643  yes   cellular    5   jun       438         2     -1         0   \n",
       "31644   no   cellular    7   aug        37         3     -1         0   \n",
       "31645   no  telephone   15   may        22         7    337        12   \n",
       "31646   no   cellular   11   jul      1973         2     -1         0   \n",
       "\n",
       "      poutcome subscribed  \n",
       "0      unknown         no  \n",
       "1      unknown         no  \n",
       "2      unknown         no  \n",
       "3      success        yes  \n",
       "4      unknown         no  \n",
       "...        ...        ...  \n",
       "31642  unknown         no  \n",
       "31643  unknown        yes  \n",
       "31644  unknown         no  \n",
       "31645  failure         no  \n",
       "31646  unknown        yes  \n",
       "\n",
       "[31647 rows x 18 columns]"
      ]
     },
     "execution_count": 3,
     "metadata": {},
     "output_type": "execute_result"
    }
   ],
   "source": [
    "train"
   ]
  },
  {
   "cell_type": "code",
   "execution_count": 4,
   "metadata": {
    "colab": {
     "base_uri": "https://localhost:8080/",
     "height": 468
    },
    "id": "X75UBRs7c3fF",
    "outputId": "30f024b4-9449-4efd-fa29-931f64be245d"
   },
   "outputs": [
    {
     "data": {
      "text/html": [
       "<div>\n",
       "<style scoped>\n",
       "    .dataframe tbody tr th:only-of-type {\n",
       "        vertical-align: middle;\n",
       "    }\n",
       "\n",
       "    .dataframe tbody tr th {\n",
       "        vertical-align: top;\n",
       "    }\n",
       "\n",
       "    .dataframe thead th {\n",
       "        text-align: right;\n",
       "    }\n",
       "</style>\n",
       "<table border=\"1\" class=\"dataframe\">\n",
       "  <thead>\n",
       "    <tr style=\"text-align: right;\">\n",
       "      <th></th>\n",
       "      <th>ID</th>\n",
       "      <th>age</th>\n",
       "      <th>job</th>\n",
       "      <th>marital</th>\n",
       "      <th>education</th>\n",
       "      <th>default</th>\n",
       "      <th>balance</th>\n",
       "      <th>housing</th>\n",
       "      <th>loan</th>\n",
       "      <th>contact</th>\n",
       "      <th>day</th>\n",
       "      <th>month</th>\n",
       "      <th>duration</th>\n",
       "      <th>campaign</th>\n",
       "      <th>pdays</th>\n",
       "      <th>previous</th>\n",
       "      <th>poutcome</th>\n",
       "    </tr>\n",
       "  </thead>\n",
       "  <tbody>\n",
       "    <tr>\n",
       "      <th>0</th>\n",
       "      <td>38441</td>\n",
       "      <td>32</td>\n",
       "      <td>services</td>\n",
       "      <td>married</td>\n",
       "      <td>secondary</td>\n",
       "      <td>no</td>\n",
       "      <td>118</td>\n",
       "      <td>yes</td>\n",
       "      <td>no</td>\n",
       "      <td>cellular</td>\n",
       "      <td>15</td>\n",
       "      <td>may</td>\n",
       "      <td>20</td>\n",
       "      <td>6</td>\n",
       "      <td>-1</td>\n",
       "      <td>0</td>\n",
       "      <td>unknown</td>\n",
       "    </tr>\n",
       "    <tr>\n",
       "      <th>1</th>\n",
       "      <td>40403</td>\n",
       "      <td>78</td>\n",
       "      <td>retired</td>\n",
       "      <td>divorced</td>\n",
       "      <td>primary</td>\n",
       "      <td>no</td>\n",
       "      <td>2787</td>\n",
       "      <td>no</td>\n",
       "      <td>no</td>\n",
       "      <td>telephone</td>\n",
       "      <td>1</td>\n",
       "      <td>jul</td>\n",
       "      <td>372</td>\n",
       "      <td>1</td>\n",
       "      <td>-1</td>\n",
       "      <td>0</td>\n",
       "      <td>unknown</td>\n",
       "    </tr>\n",
       "    <tr>\n",
       "      <th>2</th>\n",
       "      <td>3709</td>\n",
       "      <td>31</td>\n",
       "      <td>self-employed</td>\n",
       "      <td>single</td>\n",
       "      <td>tertiary</td>\n",
       "      <td>no</td>\n",
       "      <td>144</td>\n",
       "      <td>yes</td>\n",
       "      <td>no</td>\n",
       "      <td>unknown</td>\n",
       "      <td>16</td>\n",
       "      <td>may</td>\n",
       "      <td>676</td>\n",
       "      <td>1</td>\n",
       "      <td>-1</td>\n",
       "      <td>0</td>\n",
       "      <td>unknown</td>\n",
       "    </tr>\n",
       "    <tr>\n",
       "      <th>3</th>\n",
       "      <td>37422</td>\n",
       "      <td>57</td>\n",
       "      <td>services</td>\n",
       "      <td>single</td>\n",
       "      <td>primary</td>\n",
       "      <td>no</td>\n",
       "      <td>3777</td>\n",
       "      <td>yes</td>\n",
       "      <td>no</td>\n",
       "      <td>telephone</td>\n",
       "      <td>13</td>\n",
       "      <td>may</td>\n",
       "      <td>65</td>\n",
       "      <td>2</td>\n",
       "      <td>-1</td>\n",
       "      <td>0</td>\n",
       "      <td>unknown</td>\n",
       "    </tr>\n",
       "    <tr>\n",
       "      <th>4</th>\n",
       "      <td>12527</td>\n",
       "      <td>45</td>\n",
       "      <td>blue-collar</td>\n",
       "      <td>divorced</td>\n",
       "      <td>secondary</td>\n",
       "      <td>no</td>\n",
       "      <td>-705</td>\n",
       "      <td>no</td>\n",
       "      <td>yes</td>\n",
       "      <td>unknown</td>\n",
       "      <td>3</td>\n",
       "      <td>jul</td>\n",
       "      <td>111</td>\n",
       "      <td>1</td>\n",
       "      <td>-1</td>\n",
       "      <td>0</td>\n",
       "      <td>unknown</td>\n",
       "    </tr>\n",
       "    <tr>\n",
       "      <th>...</th>\n",
       "      <td>...</td>\n",
       "      <td>...</td>\n",
       "      <td>...</td>\n",
       "      <td>...</td>\n",
       "      <td>...</td>\n",
       "      <td>...</td>\n",
       "      <td>...</td>\n",
       "      <td>...</td>\n",
       "      <td>...</td>\n",
       "      <td>...</td>\n",
       "      <td>...</td>\n",
       "      <td>...</td>\n",
       "      <td>...</td>\n",
       "      <td>...</td>\n",
       "      <td>...</td>\n",
       "      <td>...</td>\n",
       "      <td>...</td>\n",
       "    </tr>\n",
       "    <tr>\n",
       "      <th>13559</th>\n",
       "      <td>23465</td>\n",
       "      <td>39</td>\n",
       "      <td>management</td>\n",
       "      <td>married</td>\n",
       "      <td>tertiary</td>\n",
       "      <td>no</td>\n",
       "      <td>45</td>\n",
       "      <td>no</td>\n",
       "      <td>no</td>\n",
       "      <td>cellular</td>\n",
       "      <td>28</td>\n",
       "      <td>aug</td>\n",
       "      <td>148</td>\n",
       "      <td>4</td>\n",
       "      <td>-1</td>\n",
       "      <td>0</td>\n",
       "      <td>unknown</td>\n",
       "    </tr>\n",
       "    <tr>\n",
       "      <th>13560</th>\n",
       "      <td>11743</td>\n",
       "      <td>54</td>\n",
       "      <td>blue-collar</td>\n",
       "      <td>married</td>\n",
       "      <td>primary</td>\n",
       "      <td>no</td>\n",
       "      <td>2281</td>\n",
       "      <td>yes</td>\n",
       "      <td>no</td>\n",
       "      <td>unknown</td>\n",
       "      <td>20</td>\n",
       "      <td>jun</td>\n",
       "      <td>158</td>\n",
       "      <td>1</td>\n",
       "      <td>-1</td>\n",
       "      <td>0</td>\n",
       "      <td>unknown</td>\n",
       "    </tr>\n",
       "    <tr>\n",
       "      <th>13561</th>\n",
       "      <td>28292</td>\n",
       "      <td>35</td>\n",
       "      <td>retired</td>\n",
       "      <td>married</td>\n",
       "      <td>primary</td>\n",
       "      <td>no</td>\n",
       "      <td>285</td>\n",
       "      <td>yes</td>\n",
       "      <td>no</td>\n",
       "      <td>cellular</td>\n",
       "      <td>29</td>\n",
       "      <td>jan</td>\n",
       "      <td>136</td>\n",
       "      <td>1</td>\n",
       "      <td>-1</td>\n",
       "      <td>0</td>\n",
       "      <td>unknown</td>\n",
       "    </tr>\n",
       "    <tr>\n",
       "      <th>13562</th>\n",
       "      <td>45163</td>\n",
       "      <td>29</td>\n",
       "      <td>admin.</td>\n",
       "      <td>single</td>\n",
       "      <td>secondary</td>\n",
       "      <td>no</td>\n",
       "      <td>464</td>\n",
       "      <td>no</td>\n",
       "      <td>no</td>\n",
       "      <td>cellular</td>\n",
       "      <td>9</td>\n",
       "      <td>nov</td>\n",
       "      <td>208</td>\n",
       "      <td>2</td>\n",
       "      <td>91</td>\n",
       "      <td>3</td>\n",
       "      <td>success</td>\n",
       "    </tr>\n",
       "    <tr>\n",
       "      <th>13563</th>\n",
       "      <td>34839</td>\n",
       "      <td>29</td>\n",
       "      <td>admin.</td>\n",
       "      <td>married</td>\n",
       "      <td>secondary</td>\n",
       "      <td>no</td>\n",
       "      <td>2</td>\n",
       "      <td>yes</td>\n",
       "      <td>no</td>\n",
       "      <td>cellular</td>\n",
       "      <td>6</td>\n",
       "      <td>may</td>\n",
       "      <td>339</td>\n",
       "      <td>1</td>\n",
       "      <td>362</td>\n",
       "      <td>1</td>\n",
       "      <td>failure</td>\n",
       "    </tr>\n",
       "  </tbody>\n",
       "</table>\n",
       "<p>13564 rows × 17 columns</p>\n",
       "</div>"
      ],
      "text/plain": [
       "          ID  age            job   marital  education default  balance  \\\n",
       "0      38441   32       services   married  secondary      no      118   \n",
       "1      40403   78        retired  divorced    primary      no     2787   \n",
       "2       3709   31  self-employed    single   tertiary      no      144   \n",
       "3      37422   57       services    single    primary      no     3777   \n",
       "4      12527   45    blue-collar  divorced  secondary      no     -705   \n",
       "...      ...  ...            ...       ...        ...     ...      ...   \n",
       "13559  23465   39     management   married   tertiary      no       45   \n",
       "13560  11743   54    blue-collar   married    primary      no     2281   \n",
       "13561  28292   35        retired   married    primary      no      285   \n",
       "13562  45163   29         admin.    single  secondary      no      464   \n",
       "13563  34839   29         admin.   married  secondary      no        2   \n",
       "\n",
       "      housing loan    contact  day month  duration  campaign  pdays  previous  \\\n",
       "0         yes   no   cellular   15   may        20         6     -1         0   \n",
       "1          no   no  telephone    1   jul       372         1     -1         0   \n",
       "2         yes   no    unknown   16   may       676         1     -1         0   \n",
       "3         yes   no  telephone   13   may        65         2     -1         0   \n",
       "4          no  yes    unknown    3   jul       111         1     -1         0   \n",
       "...       ...  ...        ...  ...   ...       ...       ...    ...       ...   \n",
       "13559      no   no   cellular   28   aug       148         4     -1         0   \n",
       "13560     yes   no    unknown   20   jun       158         1     -1         0   \n",
       "13561     yes   no   cellular   29   jan       136         1     -1         0   \n",
       "13562      no   no   cellular    9   nov       208         2     91         3   \n",
       "13563     yes   no   cellular    6   may       339         1    362         1   \n",
       "\n",
       "      poutcome  \n",
       "0      unknown  \n",
       "1      unknown  \n",
       "2      unknown  \n",
       "3      unknown  \n",
       "4      unknown  \n",
       "...        ...  \n",
       "13559  unknown  \n",
       "13560  unknown  \n",
       "13561  unknown  \n",
       "13562  success  \n",
       "13563  failure  \n",
       "\n",
       "[13564 rows x 17 columns]"
      ]
     },
     "execution_count": 4,
     "metadata": {},
     "output_type": "execute_result"
    }
   ],
   "source": [
    "test"
   ]
  },
  {
   "cell_type": "markdown",
   "metadata": {
    "id": "cXpcZHKsdiDf"
   },
   "source": [
    "## EDA(Exploratory Data Analysis)"
   ]
  },
  {
   "cell_type": "code",
   "execution_count": 5,
   "metadata": {
    "colab": {
     "base_uri": "https://localhost:8080/"
    },
    "id": "AiRvYIPcc3jh",
    "outputId": "8c4d81d9-9ec6-4f9c-8ddd-61136a35a7e4"
   },
   "outputs": [
    {
     "name": "stdout",
     "output_type": "stream",
     "text": [
      "There are 31647 rows and 18 columns respectively present in the dataset.\n"
     ]
    }
   ],
   "source": [
    "#checking the shape of dataset\n",
    "print(\"There are {} rows and {} columns respectively present in the dataset.\".format(*train.shape))"
   ]
  },
  {
   "cell_type": "code",
   "execution_count": 6,
   "metadata": {
    "colab": {
     "base_uri": "https://localhost:8080/"
    },
    "id": "X9llHMhCc3mp",
    "outputId": "4304346d-dee1-4ef3-f132-934561b1d27a"
   },
   "outputs": [
    {
     "name": "stdout",
     "output_type": "stream",
     "text": [
      "these are the columns present in the dataset:  \n",
      "\n",
      " Index(['ID', 'age', 'job', 'marital', 'education', 'default', 'balance',\n",
      "       'housing', 'loan', 'contact', 'day', 'month', 'duration', 'campaign',\n",
      "       'pdays', 'previous', 'poutcome', 'subscribed'],\n",
      "      dtype='object')\n"
     ]
    }
   ],
   "source": [
    "# checking columns in Dataset\n",
    "print(\"these are the columns present in the dataset:  \\n\\n\",train.columns)"
   ]
  },
  {
   "cell_type": "code",
   "execution_count": 7,
   "metadata": {
    "colab": {
     "base_uri": "https://localhost:8080/"
    },
    "id": "dt0sJlScc3qL",
    "outputId": "79a34be5-9877-4e11-e906-6380ec466a5e"
   },
   "outputs": [
    {
     "data": {
      "text/plain": [
       "ID            0\n",
       "age           0\n",
       "job           0\n",
       "marital       0\n",
       "education     0\n",
       "default       0\n",
       "balance       0\n",
       "housing       0\n",
       "loan          0\n",
       "contact       0\n",
       "day           0\n",
       "month         0\n",
       "duration      0\n",
       "campaign      0\n",
       "pdays         0\n",
       "previous      0\n",
       "poutcome      0\n",
       "subscribed    0\n",
       "dtype: int64"
      ]
     },
     "execution_count": 7,
     "metadata": {},
     "output_type": "execute_result"
    }
   ],
   "source": [
    "#checking null values in Dataset\n",
    "train.isnull().sum()"
   ]
  },
  {
   "cell_type": "code",
   "execution_count": 8,
   "metadata": {
    "colab": {
     "base_uri": "https://localhost:8080/",
     "height": 515
    },
    "id": "hGgZrDJKfyE4",
    "outputId": "2bdd9029-b565-44b8-a04c-78ba406150a4"
   },
   "outputs": [
    {
     "data": {
      "text/plain": [
       "<AxesSubplot:>"
      ]
     },
     "execution_count": 8,
     "metadata": {},
     "output_type": "execute_result"
    },
    {
     "data": {
      "image/png": "[encoded data removed]",
      "text/plain": [
       "<Figure size 432x288 with 2 Axes>"
      ]
     },
     "metadata": {
      "needs_background": "light"
     },
     "output_type": "display_data"
    }
   ],
   "source": [
    "#ploting the heatmap for null values\n",
    "sns.heatmap(train.isnull())"
   ]
  },
  {
   "cell_type": "code",
   "execution_count": 9,
   "metadata": {
    "colab": {
     "base_uri": "https://localhost:8080/"
    },
    "id": "pPNloeY2c3tS",
    "outputId": "e880f810-2351-407d-837c-6e51e7e66547"
   },
   "outputs": [
    {
     "name": "stdout",
     "output_type": "stream",
     "text": [
      "There are 0 duplicates present in the dataset\n"
     ]
    }
   ],
   "source": [
    "# checking duplicate values in the dataset\n",
    "print(\"There are {} duplicates present in the dataset\".format(train.duplicated().sum()))"
   ]
  },
  {
   "cell_type": "code",
   "execution_count": 10,
   "metadata": {
    "colab": {
     "base_uri": "https://localhost:8080/"
    },
    "id": "aUgePqnSc3v5",
    "outputId": "6cbc23c0-7842-4b11-f35d-537037ec3266"
   },
   "outputs": [
    {
     "name": "stdout",
     "output_type": "stream",
     "text": [
      "<class 'pandas.core.frame.DataFrame'>\n",
      "RangeIndex: 31647 entries, 0 to 31646\n",
      "Data columns (total 18 columns):\n",
      " #   Column      Non-Null Count  Dtype \n",
      "---  ------      --------------  ----- \n",
      " 0   ID          31647 non-null  int64 \n",
      " 1   age         31647 non-null  int64 \n",
      " 2   job         31647 non-null  object\n",
      " 3   marital     31647 non-null  object\n",
      " 4   education   31647 non-null  object\n",
      " 5   default     31647 non-null  object\n",
      " 6   balance     31647 non-null  int64 \n",
      " 7   housing     31647 non-null  object\n",
      " 8   loan        31647 non-null  object\n",
      " 9   contact     31647 non-null  object\n",
      " 10  day         31647 non-null  int64 \n",
      " 11  month       31647 non-null  object\n",
      " 12  duration    31647 non-null  int64 \n",
      " 13  campaign    31647 non-null  int64 \n",
      " 14  pdays       31647 non-null  int64 \n",
      " 15  previous    31647 non-null  int64 \n",
      " 16  poutcome    31647 non-null  object\n",
      " 17  subscribed  31647 non-null  object\n",
      "dtypes: int64(8), object(10)\n",
      "memory usage: 4.3+ MB\n"
     ]
    }
   ],
   "source": [
    "# checking information about dataset\n",
    "train.info()"
   ]
  },
  {
   "cell_type": "markdown",
   "metadata": {},
   "source": [
    "#### Descriptive Analysis"
   ]
  },
  {
   "cell_type": "code",
   "execution_count": 11,
   "metadata": {
    "colab": {
     "base_uri": "https://localhost:8080/",
     "height": 300
    },
    "id": "5KbsTf_BgDlp",
    "outputId": "e6e4f724-5e5c-4e62-d7ec-e4f3c2b26ba1"
   },
   "outputs": [
    {
     "data": {
      "text/html": [
       "<div>\n",
       "<style scoped>\n",
       "    .dataframe tbody tr th:only-of-type {\n",
       "        vertical-align: middle;\n",
       "    }\n",
       "\n",
       "    .dataframe tbody tr th {\n",
       "        vertical-align: top;\n",
       "    }\n",
       "\n",
       "    .dataframe thead th {\n",
       "        text-align: right;\n",
       "    }\n",
       "</style>\n",
       "<table border=\"1\" class=\"dataframe\">\n",
       "  <thead>\n",
       "    <tr style=\"text-align: right;\">\n",
       "      <th></th>\n",
       "      <th>ID</th>\n",
       "      <th>age</th>\n",
       "      <th>balance</th>\n",
       "      <th>day</th>\n",
       "      <th>duration</th>\n",
       "      <th>campaign</th>\n",
       "      <th>pdays</th>\n",
       "      <th>previous</th>\n",
       "    </tr>\n",
       "  </thead>\n",
       "  <tbody>\n",
       "    <tr>\n",
       "      <th>count</th>\n",
       "      <td>31647.000000</td>\n",
       "      <td>31647.000000</td>\n",
       "      <td>31647.000000</td>\n",
       "      <td>31647.000000</td>\n",
       "      <td>31647.000000</td>\n",
       "      <td>31647.000000</td>\n",
       "      <td>31647.000000</td>\n",
       "      <td>31647.000000</td>\n",
       "    </tr>\n",
       "    <tr>\n",
       "      <th>mean</th>\n",
       "      <td>22563.972162</td>\n",
       "      <td>40.957247</td>\n",
       "      <td>1363.890258</td>\n",
       "      <td>15.835466</td>\n",
       "      <td>258.113534</td>\n",
       "      <td>2.765697</td>\n",
       "      <td>39.576042</td>\n",
       "      <td>0.574272</td>\n",
       "    </tr>\n",
       "    <tr>\n",
       "      <th>std</th>\n",
       "      <td>13075.936990</td>\n",
       "      <td>10.625134</td>\n",
       "      <td>3028.304293</td>\n",
       "      <td>8.337097</td>\n",
       "      <td>257.118973</td>\n",
       "      <td>3.113830</td>\n",
       "      <td>99.317592</td>\n",
       "      <td>2.422529</td>\n",
       "    </tr>\n",
       "    <tr>\n",
       "      <th>min</th>\n",
       "      <td>2.000000</td>\n",
       "      <td>18.000000</td>\n",
       "      <td>-8019.000000</td>\n",
       "      <td>1.000000</td>\n",
       "      <td>0.000000</td>\n",
       "      <td>1.000000</td>\n",
       "      <td>-1.000000</td>\n",
       "      <td>0.000000</td>\n",
       "    </tr>\n",
       "    <tr>\n",
       "      <th>25%</th>\n",
       "      <td>11218.000000</td>\n",
       "      <td>33.000000</td>\n",
       "      <td>73.000000</td>\n",
       "      <td>8.000000</td>\n",
       "      <td>104.000000</td>\n",
       "      <td>1.000000</td>\n",
       "      <td>-1.000000</td>\n",
       "      <td>0.000000</td>\n",
       "    </tr>\n",
       "    <tr>\n",
       "      <th>50%</th>\n",
       "      <td>22519.000000</td>\n",
       "      <td>39.000000</td>\n",
       "      <td>450.000000</td>\n",
       "      <td>16.000000</td>\n",
       "      <td>180.000000</td>\n",
       "      <td>2.000000</td>\n",
       "      <td>-1.000000</td>\n",
       "      <td>0.000000</td>\n",
       "    </tr>\n",
       "    <tr>\n",
       "      <th>75%</th>\n",
       "      <td>33879.500000</td>\n",
       "      <td>48.000000</td>\n",
       "      <td>1431.000000</td>\n",
       "      <td>21.000000</td>\n",
       "      <td>318.500000</td>\n",
       "      <td>3.000000</td>\n",
       "      <td>-1.000000</td>\n",
       "      <td>0.000000</td>\n",
       "    </tr>\n",
       "    <tr>\n",
       "      <th>max</th>\n",
       "      <td>45211.000000</td>\n",
       "      <td>95.000000</td>\n",
       "      <td>102127.000000</td>\n",
       "      <td>31.000000</td>\n",
       "      <td>4918.000000</td>\n",
       "      <td>63.000000</td>\n",
       "      <td>871.000000</td>\n",
       "      <td>275.000000</td>\n",
       "    </tr>\n",
       "  </tbody>\n",
       "</table>\n",
       "</div>"
      ],
      "text/plain": [
       "                 ID           age        balance           day      duration  \\\n",
       "count  31647.000000  31647.000000   31647.000000  31647.000000  31647.000000   \n",
       "mean   22563.972162     40.957247    1363.890258     15.835466    258.113534   \n",
       "std    13075.936990     10.625134    3028.304293      8.337097    257.118973   \n",
       "min        2.000000     18.000000   -8019.000000      1.000000      0.000000   \n",
       "25%    11218.000000     33.000000      73.000000      8.000000    104.000000   \n",
       "50%    22519.000000     39.000000     450.000000     16.000000    180.000000   \n",
       "75%    33879.500000     48.000000    1431.000000     21.000000    318.500000   \n",
       "max    45211.000000     95.000000  102127.000000     31.000000   4918.000000   \n",
       "\n",
       "           campaign         pdays      previous  \n",
       "count  31647.000000  31647.000000  31647.000000  \n",
       "mean       2.765697     39.576042      0.574272  \n",
       "std        3.113830     99.317592      2.422529  \n",
       "min        1.000000     -1.000000      0.000000  \n",
       "25%        1.000000     -1.000000      0.000000  \n",
       "50%        2.000000     -1.000000      0.000000  \n",
       "75%        3.000000     -1.000000      0.000000  \n",
       "max       63.000000    871.000000    275.000000  "
      ]
     },
     "execution_count": 11,
     "metadata": {},
     "output_type": "execute_result"
    }
   ],
   "source": [
    "# Describing the Dataset\n",
    "train.describe()"
   ]
  },
  {
   "cell_type": "markdown",
   "metadata": {},
   "source": [
    "Observation:\n",
    "- Age: The average age of the customers in the dataset is approximately 41 years, with a standard deviation of around 11 years. The youngest customer is 18 years old, while the oldest is 95 years old.\n",
    "\n",
    "- Balance: The average balance across all customers is about 1364 monetary units, with a standard deviation of approximately 3028. The minimum balance is negative, indicating that some customers have negative balances. The maximum balance is quite high at 102,127 monetary units.\n",
    "\n",
    "- Day: The 'day' column represents the day of the month when the customer was last contacted. The values range from 1 to 31, indicating the entire month. The mean value is approximately 16, indicating that the dataset contains a fairly even distribution of contact days throughout the month.\n",
    "\n",
    "- Duration: The 'duration' column represents the duration of the last contact in seconds. The average duration is around 258 seconds (a little over 4 minutes), with a standard deviation of about 257 seconds. The minimum duration is 0 seconds, which could indicate that some customers were not contacted, while the maximum duration is 4918 seconds.\n",
    "\n",
    "- Campaign: The 'campaign' column denotes the number of contacts performed during the current marketing campaign for each customer. On average, customers were contacted approximately 3 times, with a standard deviation of around 3. The minimum number of contacts is 0, indicating that some customers were not contacted during the campaign, while the maximum number of contacts is 63.\n",
    "\n",
    "- Pdays: The 'pdays' column represents the number of days that passed since the customer was last contacted (from a previous campaign). A value of -1 indicates that the customer was not previously contacted. The average value is approximately 40, with a standard deviation of around 99. The maximum value is 871, which suggests that some customers were contacted quite a long time ago.\n",
    "\n",
    "- Previous: The 'previous' column indicates the number of contacts performed before the current campaign. On average, customers had approximately 1 previous contact, with a standard deviation of about 2. The minimum number of previous contacts is 0, while the maximum is 275."
   ]
  },
  {
   "cell_type": "code",
   "execution_count": 12,
   "metadata": {
    "id": "5_o5KSafgDoW"
   },
   "outputs": [],
   "source": [
    "# dropping the id columns . It has no relation or importance to make a prediction\n",
    "train.drop('ID',axis=1,inplace=True)"
   ]
  },
  {
   "cell_type": "markdown",
   "metadata": {},
   "source": [
    "#### Saperating Categorical and Numerical Column"
   ]
  },
  {
   "cell_type": "code",
   "execution_count": 13,
   "metadata": {
    "colab": {
     "base_uri": "https://localhost:8080/"
    },
    "id": "EfDhbKVYgDtV",
    "outputId": "2568d19c-76e1-4702-fee8-2c10e599ccb1"
   },
   "outputs": [
    {
     "name": "stdout",
     "output_type": "stream",
     "text": [
      "Categorical columns:\n",
      "['job', 'marital', 'education', 'default', 'housing', 'loan', 'contact', 'month', 'poutcome', 'subscribed']\n",
      "\n",
      "Numerical columns:\n",
      "['age', 'balance', 'day', 'duration', 'campaign', 'pdays', 'previous']\n"
     ]
    }
   ],
   "source": [
    "# Saperating Categorical and Numerical Column\n",
    "\n",
    "def separate_columns(data):\n",
    "    categorical_cols = []\n",
    "    numerical_cols = []\n",
    "\n",
    "    for column in data.columns:\n",
    "        if data[column].dtype == 'object':\n",
    "            categorical_cols.append(column)\n",
    "        else:\n",
    "            numerical_cols.append(column)\n",
    "\n",
    "    return categorical_cols, numerical_cols\n",
    "\n",
    "categorical_columns, numerical_columns = separate_columns(train)\n",
    "\n",
    "print(\"Categorical columns:\")\n",
    "print(categorical_columns)\n",
    "\n",
    "print(\"\\nNumerical columns:\")\n",
    "print(numerical_columns)\n"
   ]
  },
  {
   "cell_type": "code",
   "execution_count": 14,
   "metadata": {
    "colab": {
     "base_uri": "https://localhost:8080/"
    },
    "id": "ZQ8ekUo1gDwD",
    "outputId": "31567e91-39b3-42c5-c19e-c344cf98ab68"
   },
   "outputs": [
    {
     "name": "stdout",
     "output_type": "stream",
     "text": [
      "********** job **********\n",
      "<bound method IndexOpsMixin.value_counts of 0            admin.\n",
      "1           unknown\n",
      "2          services\n",
      "3        management\n",
      "4        technician\n",
      "            ...    \n",
      "31642    management\n",
      "31643    management\n",
      "31644    management\n",
      "31645    technician\n",
      "31646    management\n",
      "Name: job, Length: 31647, dtype: object>\n",
      "********** marital **********\n",
      "<bound method IndexOpsMixin.value_counts of 0         married\n",
      "1         married\n",
      "2         married\n",
      "3        divorced\n",
      "4         married\n",
      "           ...   \n",
      "31642      single\n",
      "31643    divorced\n",
      "31644      single\n",
      "31645     married\n",
      "31646    divorced\n",
      "Name: marital, Length: 31647, dtype: object>\n",
      "********** education **********\n",
      "<bound method IndexOpsMixin.value_counts of 0          unknown\n",
      "1        secondary\n",
      "2        secondary\n",
      "3         tertiary\n",
      "4        secondary\n",
      "           ...    \n",
      "31642     tertiary\n",
      "31643     tertiary\n",
      "31644     tertiary\n",
      "31645    secondary\n",
      "31646    secondary\n",
      "Name: education, Length: 31647, dtype: object>\n",
      "********** default **********\n",
      "<bound method IndexOpsMixin.value_counts of 0        no\n",
      "1        no\n",
      "2        no\n",
      "3        no\n",
      "4        no\n",
      "         ..\n",
      "31642    no\n",
      "31643    no\n",
      "31644    no\n",
      "31645    no\n",
      "31646    no\n",
      "Name: default, Length: 31647, dtype: object>\n",
      "********** housing **********\n",
      "<bound method IndexOpsMixin.value_counts of 0         no\n",
      "1         no\n",
      "2        yes\n",
      "3         no\n",
      "4        yes\n",
      "        ... \n",
      "31642    yes\n",
      "31643     no\n",
      "31644     no\n",
      "31645    yes\n",
      "31646    yes\n",
      "Name: housing, Length: 31647, dtype: object>\n",
      "********** loan **********\n",
      "<bound method IndexOpsMixin.value_counts of 0         no\n",
      "1         no\n",
      "2         no\n",
      "3         no\n",
      "4         no\n",
      "        ... \n",
      "31642     no\n",
      "31643    yes\n",
      "31644     no\n",
      "31645     no\n",
      "31646     no\n",
      "Name: loan, Length: 31647, dtype: object>\n",
      "********** contact **********\n",
      "<bound method IndexOpsMixin.value_counts of 0        telephone\n",
      "1         cellular\n",
      "2         cellular\n",
      "3         cellular\n",
      "4         cellular\n",
      "           ...    \n",
      "31642     cellular\n",
      "31643     cellular\n",
      "31644     cellular\n",
      "31645    telephone\n",
      "31646     cellular\n",
      "Name: contact, Length: 31647, dtype: object>\n",
      "********** month **********\n",
      "<bound method IndexOpsMixin.value_counts of 0        nov\n",
      "1        jul\n",
      "2        jul\n",
      "3        jun\n",
      "4        feb\n",
      "        ... \n",
      "31642    may\n",
      "31643    jun\n",
      "31644    aug\n",
      "31645    may\n",
      "31646    jul\n",
      "Name: month, Length: 31647, dtype: object>\n",
      "********** poutcome **********\n",
      "<bound method IndexOpsMixin.value_counts of 0        unknown\n",
      "1        unknown\n",
      "2        unknown\n",
      "3        success\n",
      "4        unknown\n",
      "          ...   \n",
      "31642    unknown\n",
      "31643    unknown\n",
      "31644    unknown\n",
      "31645    failure\n",
      "31646    unknown\n",
      "Name: poutcome, Length: 31647, dtype: object>\n",
      "********** subscribed **********\n",
      "<bound method IndexOpsMixin.value_counts of 0         no\n",
      "1         no\n",
      "2         no\n",
      "3        yes\n",
      "4         no\n",
      "        ... \n",
      "31642     no\n",
      "31643    yes\n",
      "31644     no\n",
      "31645     no\n",
      "31646    yes\n",
      "Name: subscribed, Length: 31647, dtype: object>\n"
     ]
    }
   ],
   "source": [
    "# Checking Value Counts of Categorical Column\n",
    "for col in categorical_columns:\n",
    "  print('*'*10,col,'*'*10)\n",
    "  print(train[col].value_counts)"
   ]
  },
  {
   "cell_type": "markdown",
   "metadata": {
    "id": "_KoXdWahj777"
   },
   "source": [
    "## Visualization"
   ]
  },
  {
   "cell_type": "code",
   "execution_count": 15,
   "metadata": {
    "colab": {
     "base_uri": "https://localhost:8080/",
     "height": 1000
    },
    "id": "HLODr6QngDys",
    "outputId": "e609aece-2d33-4d9a-ca69-5b5422ff55e9"
   },
   "outputs": [
    {
     "data": {
      "image/png": "[encoded data removed]",
      "text/plain": [
       "<Figure size 720x288 with 1 Axes>"
      ]
     },
     "metadata": {
      "needs_background": "light"
     },
     "output_type": "display_data"
    },
    {
     "data": {
      "image/png": "[encoded data removed]",
      "text/plain": [
       "<Figure size 720x288 with 1 Axes>"
      ]
     },
     "metadata": {
      "needs_background": "light"
     },
     "output_type": "display_data"
    },
    {
     "data": {
      "image/png": "[encoded data removed]",
      "text/plain": [
       "<Figure size 720x288 with 1 Axes>"
      ]
     },
     "metadata": {
      "needs_background": "light"
     },
     "output_type": "display_data"
    },
    {
     "data": {
      "image/png": "[encoded data removed]",
      "text/plain": [
       "<Figure size 720x288 with 1 Axes>"
      ]
     },
     "metadata": {
      "needs_background": "light"
     },
     "output_type": "display_data"
    },
    {
     "data": {
      "image/png": "[encoded data removed]",
      "text/plain": [
       "<Figure size 720x288 with 1 Axes>"
      ]
     },
     "metadata": {
      "needs_background": "light"
     },
     "output_type": "display_data"
    },
    {
     "data": {
      "image/png": "[encoded data removed]",
      "text/plain": [
       "<Figure size 720x288 with 1 Axes>"
      ]
     },
     "metadata": {
      "needs_background": "light"
     },
     "output_type": "display_data"
    },
    {
     "data": {
      "image/png": "[encoded data removed]",
      "text/plain": [
       "<Figure size 720x288 with 1 Axes>"
      ]
     },
     "metadata": {
      "needs_background": "light"
     },
     "output_type": "display_data"
    },
    {
     "data": {
      "image/png": "[encoded data removed]",
      "text/plain": [
       "<Figure size 720x288 with 1 Axes>"
      ]
     },
     "metadata": {
      "needs_background": "light"
     },
     "output_type": "display_data"
    },
    {
     "data": {
      "image/png": "[encoded data removed]",
      "text/plain": [
       "<Figure size 720x288 with 1 Axes>"
      ]
     },
     "metadata": {
      "needs_background": "light"
     },
     "output_type": "display_data"
    },
    {
     "data": {
      "image/png": "[encoded data removed]",
      "text/plain": [
       "<Figure size 720x288 with 1 Axes>"
      ]
     },
     "metadata": {
      "needs_background": "light"
     },
     "output_type": "display_data"
    }
   ],
   "source": [
    "# Countplot of Categorical Columns\n",
    "for col in categorical_columns:\n",
    "    plt.figure(figsize=(10, 4))\n",
    "    sns.countplot(data=train, x=col)\n",
    "    plt.title(col)\n",
    "    plt.tight_layout()\n",
    "    plt.show()\n"
   ]
  },
  {
   "cell_type": "markdown",
   "metadata": {
    "id": "qL6FPMEAixXT"
   },
   "source": [
    "observations:\n",
    "- Job: The audiences of these campaigns target mostly administrators, blue-collars, and technicians.\n",
    "- Marital status: Most of them are married; married clients are twice as single people.\n",
    "- Education: Most clients have university education level while illiterate people are very less.\n",
    "- default/credit: Most people have no default stay on their credit file.\n",
    "- housing: Most people have no housing loan. loan: Most people have no personal loan.\n",
    "- contact: Common means of communication are cellular.\n",
    "- month - May is the busy month and December is the least busy month (because of the holidays season).\n",
    "- day of week: Thursday is the most busy day while Friday is the least busy day of the week."
   ]
  },
  {
   "cell_type": "markdown",
   "metadata": {
    "id": "zGm1quvRmO4M"
   },
   "source": [
    "## List of normalized relative frequency of the target class per category."
   ]
  },
  {
   "cell_type": "markdown",
   "metadata": {
    "id": "1gUmmQ0fmPc7"
   },
   "source": [
    "Normalized distribution of each class per feature and plotted difference between positive and negative frequencies. Positive values imply this category favors clients that will subscribe and negative values categories that favor not buying the product."
   ]
  },
  {
   "cell_type": "code",
   "execution_count": 16,
   "metadata": {
    "colab": {
     "base_uri": "https://localhost:8080/",
     "height": 1000
    },
    "id": "RhpcPFx5gD1-",
    "outputId": "994b37b2-b7cb-4647-847b-75146046c567"
   },
   "outputs": [
    {
     "data": {
      "image/png": "[encoded data removed]",
      "text/plain": [
       "<Figure size 720x288 with 1 Axes>"
      ]
     },
     "metadata": {
      "needs_background": "light"
     },
     "output_type": "display_data"
    },
    {
     "data": {
      "image/png": "[encoded data removed]",
      "text/plain": [
       "<Figure size 720x288 with 1 Axes>"
      ]
     },
     "metadata": {
      "needs_background": "light"
     },
     "output_type": "display_data"
    },
    {
     "data": {
      "image/png": "[encoded data removed]",
      "text/plain": [
       "<Figure size 720x288 with 1 Axes>"
      ]
     },
     "metadata": {
      "needs_background": "light"
     },
     "output_type": "display_data"
    },
    {
     "data": {
      "image/png": "[encoded data removed]",
      "text/plain": [
       "<Figure size 720x288 with 1 Axes>"
      ]
     },
     "metadata": {
      "needs_background": "light"
     },
     "output_type": "display_data"
    },
    {
     "data": {
      "image/png": "[encoded data removed]",
      "text/plain": [
       "<Figure size 720x288 with 1 Axes>"
      ]
     },
     "metadata": {
      "needs_background": "light"
     },
     "output_type": "display_data"
    },
    {
     "data": {
      "image/png": "[encoded data removed]",
      "text/plain": [
       "<Figure size 720x288 with 1 Axes>"
      ]
     },
     "metadata": {
      "needs_background": "light"
     },
     "output_type": "display_data"
    },
    {
     "data": {
      "image/png": "[encoded data removed]",
      "text/plain": [
       "<Figure size 720x288 with 1 Axes>"
      ]
     },
     "metadata": {
      "needs_background": "light"
     },
     "output_type": "display_data"
    },
    {
     "data": {
      "image/png": "[encoded data removed]",
      "text/plain": [
       "<Figure size 720x288 with 1 Axes>"
      ]
     },
     "metadata": {
      "needs_background": "light"
     },
     "output_type": "display_data"
    },
    {
     "data": {
      "image/png": "[encoded data removed]",
      "text/plain": [
       "<Figure size 720x288 with 1 Axes>"
      ]
     },
     "metadata": {
      "needs_background": "light"
     },
     "output_type": "display_data"
    },
    {
     "data": {
      "image/png": "[encoded data removed]",
      "text/plain": [
       "<Figure size 720x288 with 1 Axes>"
      ]
     },
     "metadata": {
      "needs_background": "light"
     },
     "output_type": "display_data"
    }
   ],
   "source": [
    "for col in categorical_columns:\n",
    "    plt.figure(figsize=(10, 4))\n",
    "    pos_counts = train.loc[train['subscribed'] == 'yes', col].value_counts()\n",
    "    neg_counts = train.loc[train['subscribed'] == 'no', col].value_counts()\n",
    "\n",
    "    all_counts = list(set(list(pos_counts.index) + list(neg_counts.index)))\n",
    "\n",
    "    freq_pos = train['subscribed'].value_counts()['yes']\n",
    "    freq_neg = train['subscribed'].value_counts()['no']\n",
    "\n",
    "    all_values = [pos_counts.get(k, 0) / freq_pos - neg_counts.get(k, 0) / freq_neg for k in all_counts]\n",
    "\n",
    "    sns.barplot(x=all_counts, y=all_values)\n",
    "    plt.title(col)\n",
    "    plt.tight_layout()\n",
    "    plt.show()\n"
   ]
  },
  {
   "cell_type": "markdown",
   "metadata": {
    "id": "ijFiJWHrmZfJ"
   },
   "source": [
    "Observation: There are unknown values for many variables in the Data set. There are many ways to handle missing data. One of the ways is to discard the row but that would lead to reduction of data set and hence would not serve our purpose of building an accurate and realistic prediction model.\n",
    "\n",
    "Other method is to smartly infer the value of the unknown variable from the other variables. This a way of doing an imputation where we use other independent variables to infer the value of the missing variable. This doesn't gurantee that all missing values will be addressed but majority of them will have a reasonable which can be useful in the prediction.\n",
    "\n",
    "Variables with unknown/missing values are : 'education', 'job', 'housing', 'loan', 'deafult', and 'marital'. But the significant ones are 'education', 'job', 'housing', and 'loan'. The number of unknowns for 'marital' is very low. The unknown for 'default' variable are considered to be recorded as unknown. It may be possible that customer is not willing to disclose this information to the banking representative. Hence the unknown value in 'default' is actually a separate value.\n",
    "\n",
    "Therefore, we start with creating new variables for the unknown values in 'education', 'job', 'housing' and 'loan'. We do this to see if the values are missing at random or is there a pattern in the missing values."
   ]
  },
  {
   "cell_type": "code",
   "execution_count": 17,
   "metadata": {
    "colab": {
     "base_uri": "https://localhost:8080/",
     "height": 466
    },
    "id": "aLbz10xBgD5H",
    "outputId": "936e9cb2-609f-4641-a133-90eaba0d0079"
   },
   "outputs": [
    {
     "data": {
      "text/plain": [
       "<AxesSubplot:xlabel='subscribed', ylabel='count'>"
      ]
     },
     "execution_count": 17,
     "metadata": {},
     "output_type": "execute_result"
    },
    {
     "data": {
      "image/png": "[encoded data removed]",
      "text/plain": [
       "<Figure size 432x288 with 1 Axes>"
      ]
     },
     "metadata": {
      "needs_background": "light"
     },
     "output_type": "display_data"
    }
   ],
   "source": [
    "sns.countplot(x='subscribed', data=train)\n"
   ]
  },
  {
   "cell_type": "markdown",
   "metadata": {},
   "source": [
    "Observation:\n",
    "- Here in my target column There is values of no is vary high in compare of yes so i can say that my data is imbalanced."
   ]
  },
  {
   "cell_type": "code",
   "execution_count": 18,
   "metadata": {
    "colab": {
     "base_uri": "https://localhost:8080/"
    },
    "id": "2vJVGlIfgD-y",
    "outputId": "9c46a58d-fad1-4e28-f198-14e06038e455"
   },
   "outputs": [
    {
     "data": {
      "text/plain": [
       "no     27932\n",
       "yes     3715\n",
       "Name: subscribed, dtype: int64"
      ]
     },
     "execution_count": 18,
     "metadata": {},
     "output_type": "execute_result"
    }
   ],
   "source": [
    "train['subscribed'].value_counts()"
   ]
  },
  {
   "cell_type": "markdown",
   "metadata": {
    "id": "t0f9c8FMpAVt"
   },
   "source": [
    "we can clearly see that is classes in the target columns are imbalanced some we will balance the classes"
   ]
  },
  {
   "cell_type": "code",
   "execution_count": 19,
   "metadata": {
    "colab": {
     "base_uri": "https://localhost:8080/",
     "height": 953
    },
    "id": "JzgoNkJDgEBg",
    "outputId": "a05ac350-dcf7-4eb4-ffa0-8345b2502509"
   },
   "outputs": [
    {
     "data": {
      "image/png": "[encoded data removed]",
      "text/plain": [
       "<Figure size 1440x1080 with 6 Axes>"
      ]
     },
     "metadata": {
      "needs_background": "light"
     },
     "output_type": "display_data"
    }
   ],
   "source": [
    "train[['age','duration','campaign','previous','balance']].hist(bins=30, figsize=(20,15))\n",
    "plt.show()"
   ]
  },
  {
   "cell_type": "code",
   "execution_count": 20,
   "metadata": {
    "colab": {
     "base_uri": "https://localhost:8080/",
     "height": 206
    },
    "id": "T3g9hu3NgEG4",
    "outputId": "5cb11d67-b6a0-4571-ab93-816d6d98eef5"
   },
   "outputs": [
    {
     "data": {
      "text/html": [
       "<div>\n",
       "<style scoped>\n",
       "    .dataframe tbody tr th:only-of-type {\n",
       "        vertical-align: middle;\n",
       "    }\n",
       "\n",
       "    .dataframe tbody tr th {\n",
       "        vertical-align: top;\n",
       "    }\n",
       "\n",
       "    .dataframe thead th {\n",
       "        text-align: right;\n",
       "    }\n",
       "</style>\n",
       "<table border=\"1\" class=\"dataframe\">\n",
       "  <thead>\n",
       "    <tr style=\"text-align: right;\">\n",
       "      <th></th>\n",
       "      <th>campaign</th>\n",
       "      <th>subscribed</th>\n",
       "    </tr>\n",
       "  </thead>\n",
       "  <tbody>\n",
       "    <tr>\n",
       "      <th>0</th>\n",
       "      <td>1</td>\n",
       "      <td>12262</td>\n",
       "    </tr>\n",
       "    <tr>\n",
       "      <th>1</th>\n",
       "      <td>2</td>\n",
       "      <td>8798</td>\n",
       "    </tr>\n",
       "    <tr>\n",
       "      <th>2</th>\n",
       "      <td>3</td>\n",
       "      <td>3858</td>\n",
       "    </tr>\n",
       "    <tr>\n",
       "      <th>3</th>\n",
       "      <td>4</td>\n",
       "      <td>2442</td>\n",
       "    </tr>\n",
       "    <tr>\n",
       "      <th>4</th>\n",
       "      <td>5</td>\n",
       "      <td>1245</td>\n",
       "    </tr>\n",
       "  </tbody>\n",
       "</table>\n",
       "</div>"
      ],
      "text/plain": [
       "   campaign  subscribed\n",
       "0         1       12262\n",
       "1         2        8798\n",
       "2         3        3858\n",
       "3         4        2442\n",
       "4         5        1245"
      ]
     },
     "execution_count": 20,
     "metadata": {},
     "output_type": "execute_result"
    }
   ],
   "source": [
    "#Now, we will print out the campaigns that the largest number of customers participate in\n",
    "\n",
    "train.groupby(['campaign'])['subscribed'].count().reset_index().sort_values(by='subscribed', ascending=False).iloc[:5]"
   ]
  },
  {
   "cell_type": "markdown",
   "metadata": {
    "id": "Lv4ycJ8KjmTR"
   },
   "source": [
    "we can clearly see that the first and second campaign are the most impactful campaign's."
   ]
  },
  {
   "cell_type": "markdown",
   "metadata": {
    "id": "YCUGFtevj02U"
   },
   "source": [
    "### Which customers were more likely to subscribe to the term deposit? lets find out!"
   ]
  },
  {
   "cell_type": "code",
   "execution_count": 21,
   "metadata": {
    "colab": {
     "base_uri": "https://localhost:8080/",
     "height": 572
    },
    "id": "wkuZh3fYgEMn",
    "outputId": "687102fc-9adb-458c-f7d8-a086649e973c"
   },
   "outputs": [
    {
     "data": {
      "text/plain": [
       "Text(0, 0.5, 'Frequency of Purchase')"
      ]
     },
     "execution_count": 21,
     "metadata": {},
     "output_type": "execute_result"
    },
    {
     "data": {
      "image/png": "[encoded data removed]",
      "text/plain": [
       "<Figure size 432x288 with 1 Axes>"
      ]
     },
     "metadata": {
      "needs_background": "light"
     },
     "output_type": "display_data"
    }
   ],
   "source": [
    "table = pd.crosstab(train.job, train.subscribed)\n",
    "table.columns = ['Not subscribed', 'Subscribed']\n",
    "table.plot(kind='bar')\n",
    "\n",
    "plt.grid(True)\n",
    "\n",
    "plt.title('Purchase Frequency for Job Title')\n",
    "plt.xlabel('Job')\n",
    "plt.ylabel('Frequency of Purchase')"
   ]
  },
  {
   "cell_type": "code",
   "execution_count": 22,
   "metadata": {
    "colab": {
     "base_uri": "https://localhost:8080/"
    },
    "id": "nSgCsi9QgEP_",
    "outputId": "b720d428-9231-4d2e-f2c0-1708b26e012e"
   },
   "outputs": [
    {
     "data": {
      "text/plain": [
       "job\n",
       "student          28.66\n",
       "retired          23.00\n",
       "unemployed       14.25\n",
       "management       13.90\n",
       "unknown          12.62\n",
       "self-employed    12.47\n",
       "admin.           12.45\n",
       "technician       11.19\n",
       "housemaid         9.04\n",
       "services          8.75\n",
       "entrepreneur      8.43\n",
       "blue-collar       7.15\n",
       "Name: subcribed, dtype: float64"
      ]
     },
     "execution_count": 22,
     "metadata": {},
     "output_type": "execute_result"
    }
   ],
   "source": [
    "#cross tab\n",
    "table = pd.crosstab(train.job, train.subscribed)\n",
    "\n",
    "table = round(table.div(table.sum(axis=1), axis=0).mul(100), 2)\n",
    "table.columns=['notsubcribed', 'subcribed']\n",
    "table.sort_values(by=['subcribed'], ascending=False).loc[:, 'subcribed']"
   ]
  },
  {
   "cell_type": "markdown",
   "metadata": {
    "id": "xUqXmWl4kLWd"
   },
   "source": [
    "The target customers are admins, blue-collars and techinicians but the frequency of students and retired people subscribed to the term deposit are pretty high (28.66% for students and 23% for retired people)."
   ]
  },
  {
   "cell_type": "code",
   "execution_count": 23,
   "metadata": {
    "colab": {
     "base_uri": "https://localhost:8080/",
     "height": 535
    },
    "id": "AjAeKERUgES1",
    "outputId": "ce9ead74-a4eb-419d-fe8a-8689c533bf39"
   },
   "outputs": [
    {
     "data": {
      "text/plain": [
       "Text(0, 0.5, 'Proportion of Customers')"
      ]
     },
     "execution_count": 23,
     "metadata": {},
     "output_type": "execute_result"
    },
    {
     "data": {
      "image/png": "[encoded data removed]",
      "text/plain": [
       "<Figure size 432x288 with 1 Axes>"
      ]
     },
     "metadata": {
      "needs_background": "light"
     },
     "output_type": "display_data"
    }
   ],
   "source": [
    "table = pd.crosstab(train.marital,train.subscribed\n",
    "                   )\n",
    "table = table.div(table.sum(1).astype(float), axis=0)\n",
    "table.columns = ['Not subscribed', 'Subscribed']\n",
    "table[['Subscribed', 'Not subscribed']].plot(kind='bar', stacked=True)\n",
    "plt.title('Frequency of Marital Status vs Purchase')\n",
    "plt.xlabel('Marital Status')\n",
    "plt.ylabel('Proportion of Customers')"
   ]
  },
  {
   "cell_type": "markdown",
   "metadata": {
    "id": "nbOy90sykZlS"
   },
   "source": [
    "There is no significant impact of marital status on subscription behaviour of customers."
   ]
  },
  {
   "cell_type": "markdown",
   "metadata": {
    "id": "vAoCNaqGntCa"
   },
   "source": [
    "## changing categorical variable to numerical variable"
   ]
  },
  {
   "cell_type": "code",
   "execution_count": 24,
   "metadata": {
    "colab": {
     "base_uri": "https://localhost:8080/",
     "height": 250
    },
    "id": "x4SEw3jggEbT",
    "outputId": "1aae44d4-3701-4b4b-ad9e-2234acfd2566"
   },
   "outputs": [
    {
     "data": {
      "text/html": [
       "<div>\n",
       "<style scoped>\n",
       "    .dataframe tbody tr th:only-of-type {\n",
       "        vertical-align: middle;\n",
       "    }\n",
       "\n",
       "    .dataframe tbody tr th {\n",
       "        vertical-align: top;\n",
       "    }\n",
       "\n",
       "    .dataframe thead th {\n",
       "        text-align: right;\n",
       "    }\n",
       "</style>\n",
       "<table border=\"1\" class=\"dataframe\">\n",
       "  <thead>\n",
       "    <tr style=\"text-align: right;\">\n",
       "      <th></th>\n",
       "      <th>age</th>\n",
       "      <th>job</th>\n",
       "      <th>marital</th>\n",
       "      <th>education</th>\n",
       "      <th>default</th>\n",
       "      <th>balance</th>\n",
       "      <th>housing</th>\n",
       "      <th>loan</th>\n",
       "      <th>contact</th>\n",
       "      <th>day</th>\n",
       "      <th>month</th>\n",
       "      <th>duration</th>\n",
       "      <th>campaign</th>\n",
       "      <th>pdays</th>\n",
       "      <th>previous</th>\n",
       "      <th>poutcome</th>\n",
       "      <th>subscribed</th>\n",
       "    </tr>\n",
       "  </thead>\n",
       "  <tbody>\n",
       "    <tr>\n",
       "      <th>0</th>\n",
       "      <td>56</td>\n",
       "      <td>admin.</td>\n",
       "      <td>married</td>\n",
       "      <td>unknown</td>\n",
       "      <td>0</td>\n",
       "      <td>1933</td>\n",
       "      <td>0</td>\n",
       "      <td>0</td>\n",
       "      <td>telephone</td>\n",
       "      <td>19</td>\n",
       "      <td>11</td>\n",
       "      <td>44</td>\n",
       "      <td>2</td>\n",
       "      <td>-1</td>\n",
       "      <td>0</td>\n",
       "      <td>unknown</td>\n",
       "      <td>0</td>\n",
       "    </tr>\n",
       "    <tr>\n",
       "      <th>1</th>\n",
       "      <td>31</td>\n",
       "      <td>other</td>\n",
       "      <td>married</td>\n",
       "      <td>secondary</td>\n",
       "      <td>0</td>\n",
       "      <td>3</td>\n",
       "      <td>0</td>\n",
       "      <td>0</td>\n",
       "      <td>cellular</td>\n",
       "      <td>20</td>\n",
       "      <td>7</td>\n",
       "      <td>91</td>\n",
       "      <td>2</td>\n",
       "      <td>-1</td>\n",
       "      <td>0</td>\n",
       "      <td>unknown</td>\n",
       "      <td>0</td>\n",
       "    </tr>\n",
       "    <tr>\n",
       "      <th>2</th>\n",
       "      <td>27</td>\n",
       "      <td>services</td>\n",
       "      <td>married</td>\n",
       "      <td>secondary</td>\n",
       "      <td>0</td>\n",
       "      <td>891</td>\n",
       "      <td>1</td>\n",
       "      <td>0</td>\n",
       "      <td>cellular</td>\n",
       "      <td>18</td>\n",
       "      <td>7</td>\n",
       "      <td>240</td>\n",
       "      <td>1</td>\n",
       "      <td>-1</td>\n",
       "      <td>0</td>\n",
       "      <td>unknown</td>\n",
       "      <td>0</td>\n",
       "    </tr>\n",
       "    <tr>\n",
       "      <th>3</th>\n",
       "      <td>57</td>\n",
       "      <td>management</td>\n",
       "      <td>divorced</td>\n",
       "      <td>tertiary</td>\n",
       "      <td>0</td>\n",
       "      <td>3287</td>\n",
       "      <td>0</td>\n",
       "      <td>0</td>\n",
       "      <td>cellular</td>\n",
       "      <td>22</td>\n",
       "      <td>6</td>\n",
       "      <td>867</td>\n",
       "      <td>1</td>\n",
       "      <td>84</td>\n",
       "      <td>3</td>\n",
       "      <td>success</td>\n",
       "      <td>1</td>\n",
       "    </tr>\n",
       "    <tr>\n",
       "      <th>4</th>\n",
       "      <td>31</td>\n",
       "      <td>technician</td>\n",
       "      <td>married</td>\n",
       "      <td>secondary</td>\n",
       "      <td>0</td>\n",
       "      <td>119</td>\n",
       "      <td>1</td>\n",
       "      <td>0</td>\n",
       "      <td>cellular</td>\n",
       "      <td>4</td>\n",
       "      <td>2</td>\n",
       "      <td>380</td>\n",
       "      <td>1</td>\n",
       "      <td>-1</td>\n",
       "      <td>0</td>\n",
       "      <td>unknown</td>\n",
       "      <td>0</td>\n",
       "    </tr>\n",
       "  </tbody>\n",
       "</table>\n",
       "</div>"
      ],
      "text/plain": [
       "   age         job   marital  education default  balance housing loan  \\\n",
       "0   56      admin.   married    unknown       0     1933       0    0   \n",
       "1   31       other   married  secondary       0        3       0    0   \n",
       "2   27    services   married  secondary       0      891       1    0   \n",
       "3   57  management  divorced   tertiary       0     3287       0    0   \n",
       "4   31  technician   married  secondary       0      119       1    0   \n",
       "\n",
       "     contact  day month  duration  campaign  pdays  previous poutcome  \\\n",
       "0  telephone   19    11        44         2     -1         0  unknown   \n",
       "1   cellular   20     7        91         2     -1         0  unknown   \n",
       "2   cellular   18     7       240         1     -1         0  unknown   \n",
       "3   cellular   22     6       867         1     84         3  success   \n",
       "4   cellular    4     2       380         1     -1         0  unknown   \n",
       "\n",
       "  subscribed  \n",
       "0          0  \n",
       "1          0  \n",
       "2          0  \n",
       "3          1  \n",
       "4          0  "
      ]
     },
     "execution_count": 24,
     "metadata": {},
     "output_type": "execute_result"
    }
   ],
   "source": [
    "\n",
    "train[['default','housing','loan','subscribed']]=train[['default','housing','loan','subscribed']].replace([\"yes\",\"no\"],[\"1\",\"0\"])\n",
    "train['month']=train['month'].replace([\"jan\",\"feb\",\"mar\",\"apr\",\"may\",\"jun\",\"jul\", \"aug\",\"sep\",\"oct\",\"nov\",\"dec\"],[\"1\",\"2\",\"3\",\"4\",\"5\",\"6\",\"7\",\"8\",\"9\",\"10\",\"11\",\"12\"])\n",
    "train['job']=train['job'].replace(['unknown'],['other'])\n",
    "\n",
    "\n",
    "train.head()"
   ]
  },
  {
   "cell_type": "code",
   "execution_count": 25,
   "metadata": {
    "id": "hxwc4LeigEeI"
   },
   "outputs": [],
   "source": [
    "\n",
    "le=LabelEncoder()\n",
    "train['job']=le.fit_transform(train['job'])\n",
    "train['education']=le.fit_transform(train['education'])\n",
    "train['poutcome']=le.fit_transform(train['poutcome'])\n",
    "train['marital']=le.fit_transform(train['marital'])\n",
    "train['contact']=le.fit_transform(train['contact'])"
   ]
  },
  {
   "cell_type": "code",
   "execution_count": 26,
   "metadata": {
    "colab": {
     "base_uri": "https://localhost:8080/",
     "height": 206
    },
    "id": "vAdGu5rpgEg-",
    "outputId": "2c9751b5-19a4-4187-8a85-3186b349a83b"
   },
   "outputs": [
    {
     "data": {
      "text/html": [
       "<div>\n",
       "<style scoped>\n",
       "    .dataframe tbody tr th:only-of-type {\n",
       "        vertical-align: middle;\n",
       "    }\n",
       "\n",
       "    .dataframe tbody tr th {\n",
       "        vertical-align: top;\n",
       "    }\n",
       "\n",
       "    .dataframe thead th {\n",
       "        text-align: right;\n",
       "    }\n",
       "</style>\n",
       "<table border=\"1\" class=\"dataframe\">\n",
       "  <thead>\n",
       "    <tr style=\"text-align: right;\">\n",
       "      <th></th>\n",
       "      <th>age</th>\n",
       "      <th>job</th>\n",
       "      <th>marital</th>\n",
       "      <th>education</th>\n",
       "      <th>default</th>\n",
       "      <th>balance</th>\n",
       "      <th>housing</th>\n",
       "      <th>loan</th>\n",
       "      <th>contact</th>\n",
       "      <th>day</th>\n",
       "      <th>month</th>\n",
       "      <th>duration</th>\n",
       "      <th>campaign</th>\n",
       "      <th>pdays</th>\n",
       "      <th>previous</th>\n",
       "      <th>poutcome</th>\n",
       "      <th>subscribed</th>\n",
       "    </tr>\n",
       "  </thead>\n",
       "  <tbody>\n",
       "    <tr>\n",
       "      <th>0</th>\n",
       "      <td>56</td>\n",
       "      <td>0</td>\n",
       "      <td>1</td>\n",
       "      <td>3</td>\n",
       "      <td>0</td>\n",
       "      <td>1933</td>\n",
       "      <td>0</td>\n",
       "      <td>0</td>\n",
       "      <td>1</td>\n",
       "      <td>19</td>\n",
       "      <td>11</td>\n",
       "      <td>44</td>\n",
       "      <td>2</td>\n",
       "      <td>-1</td>\n",
       "      <td>0</td>\n",
       "      <td>3</td>\n",
       "      <td>0</td>\n",
       "    </tr>\n",
       "    <tr>\n",
       "      <th>1</th>\n",
       "      <td>31</td>\n",
       "      <td>5</td>\n",
       "      <td>1</td>\n",
       "      <td>1</td>\n",
       "      <td>0</td>\n",
       "      <td>3</td>\n",
       "      <td>0</td>\n",
       "      <td>0</td>\n",
       "      <td>0</td>\n",
       "      <td>20</td>\n",
       "      <td>7</td>\n",
       "      <td>91</td>\n",
       "      <td>2</td>\n",
       "      <td>-1</td>\n",
       "      <td>0</td>\n",
       "      <td>3</td>\n",
       "      <td>0</td>\n",
       "    </tr>\n",
       "    <tr>\n",
       "      <th>2</th>\n",
       "      <td>27</td>\n",
       "      <td>8</td>\n",
       "      <td>1</td>\n",
       "      <td>1</td>\n",
       "      <td>0</td>\n",
       "      <td>891</td>\n",
       "      <td>1</td>\n",
       "      <td>0</td>\n",
       "      <td>0</td>\n",
       "      <td>18</td>\n",
       "      <td>7</td>\n",
       "      <td>240</td>\n",
       "      <td>1</td>\n",
       "      <td>-1</td>\n",
       "      <td>0</td>\n",
       "      <td>3</td>\n",
       "      <td>0</td>\n",
       "    </tr>\n",
       "    <tr>\n",
       "      <th>3</th>\n",
       "      <td>57</td>\n",
       "      <td>4</td>\n",
       "      <td>0</td>\n",
       "      <td>2</td>\n",
       "      <td>0</td>\n",
       "      <td>3287</td>\n",
       "      <td>0</td>\n",
       "      <td>0</td>\n",
       "      <td>0</td>\n",
       "      <td>22</td>\n",
       "      <td>6</td>\n",
       "      <td>867</td>\n",
       "      <td>1</td>\n",
       "      <td>84</td>\n",
       "      <td>3</td>\n",
       "      <td>2</td>\n",
       "      <td>1</td>\n",
       "    </tr>\n",
       "    <tr>\n",
       "      <th>4</th>\n",
       "      <td>31</td>\n",
       "      <td>10</td>\n",
       "      <td>1</td>\n",
       "      <td>1</td>\n",
       "      <td>0</td>\n",
       "      <td>119</td>\n",
       "      <td>1</td>\n",
       "      <td>0</td>\n",
       "      <td>0</td>\n",
       "      <td>4</td>\n",
       "      <td>2</td>\n",
       "      <td>380</td>\n",
       "      <td>1</td>\n",
       "      <td>-1</td>\n",
       "      <td>0</td>\n",
       "      <td>3</td>\n",
       "      <td>0</td>\n",
       "    </tr>\n",
       "  </tbody>\n",
       "</table>\n",
       "</div>"
      ],
      "text/plain": [
       "   age  job  marital  education default  balance housing loan  contact  day  \\\n",
       "0   56    0        1          3       0     1933       0    0        1   19   \n",
       "1   31    5        1          1       0        3       0    0        0   20   \n",
       "2   27    8        1          1       0      891       1    0        0   18   \n",
       "3   57    4        0          2       0     3287       0    0        0   22   \n",
       "4   31   10        1          1       0      119       1    0        0    4   \n",
       "\n",
       "  month  duration  campaign  pdays  previous  poutcome subscribed  \n",
       "0    11        44         2     -1         0         3          0  \n",
       "1     7        91         2     -1         0         3          0  \n",
       "2     7       240         1     -1         0         3          0  \n",
       "3     6       867         1     84         3         2          1  \n",
       "4     2       380         1     -1         0         3          0  "
      ]
     },
     "execution_count": 26,
     "metadata": {},
     "output_type": "execute_result"
    }
   ],
   "source": [
    "train.head()"
   ]
  },
  {
   "cell_type": "markdown",
   "metadata": {
    "id": "Bxh-QheHozsE"
   },
   "source": [
    "## Outliers"
   ]
  },
  {
   "cell_type": "code",
   "execution_count": 27,
   "metadata": {
    "colab": {
     "base_uri": "https://localhost:8080/",
     "height": 1000
    },
    "id": "2llC6gf1gEjj",
    "outputId": "a0cabda2-e58e-4425-8275-508da3db8017"
   },
   "outputs": [
    {
     "data": {
      "image/png": "[encoded data removed]",
      "text/plain": [
       "<Figure size 1440x1440 with 1 Axes>"
      ]
     },
     "metadata": {
      "needs_background": "light"
     },
     "output_type": "display_data"
    },
    {
     "data": {
      "image/png": "[encoded data removed]",
      "text/plain": [
       "<Figure size 1440x1440 with 1 Axes>"
      ]
     },
     "metadata": {
      "needs_background": "light"
     },
     "output_type": "display_data"
    },
    {
     "data": {
      "image/png": "[encoded data removed]",
      "text/plain": [
       "<Figure size 1440x1440 with 1 Axes>"
      ]
     },
     "metadata": {
      "needs_background": "light"
     },
     "output_type": "display_data"
    },
    {
     "data": {
      "image/png": "[encoded data removed]",
      "text/plain": [
       "<Figure size 1440x1440 with 1 Axes>"
      ]
     },
     "metadata": {
      "needs_background": "light"
     },
     "output_type": "display_data"
    },
    {
     "data": {
      "image/png": "[encoded data removed]",
      "text/plain": [
       "<Figure size 1440x1440 with 1 Axes>"
      ]
     },
     "metadata": {
      "needs_background": "light"
     },
     "output_type": "display_data"
    },
    {
     "data": {
      "image/png": "[encoded data removed]",
      "text/plain": [
       "<Figure size 1440x1440 with 1 Axes>"
      ]
     },
     "metadata": {
      "needs_background": "light"
     },
     "output_type": "display_data"
    },
    {
     "data": {
      "image/png": "[encoded data removed]",
      "text/plain": [
       "<Figure size 1440x1440 with 1 Axes>"
      ]
     },
     "metadata": {
      "needs_background": "light"
     },
     "output_type": "display_data"
    }
   ],
   "source": [
    "col=train[['age','balance','day','campaign','duration','pdays','previous']]\n",
    "for i in col:\n",
    "  n=1\n",
    "  plt.figure(figsize=(20,20))\n",
    "  plt.subplot(4,3,1)\n",
    "  sns.boxplot(train[i])\n",
    "  plt.title(i)\n",
    "  plt.show()\n",
    "  n=n+1"
   ]
  },
  {
   "cell_type": "markdown",
   "metadata": {
    "id": "iRLq1fCBgEmK"
   },
   "source": [
    "### remove outliers using z_score"
   ]
  },
  {
   "cell_type": "code",
   "execution_count": 29,
   "metadata": {
    "colab": {
     "base_uri": "https://localhost:8080/"
    },
    "id": "0BzmbIk3gEpB",
    "outputId": "bb105dab-2206-4109-aa2b-cc870629d790"
   },
   "outputs": [
    {
     "name": "stdout",
     "output_type": "stream",
     "text": [
      "            age   balance  duration  campaign     pdays  previous\n",
      "0      1.415793  0.187933  0.832754  0.245906  0.408555  0.237059\n",
      "1      0.937156  0.449397  0.649957  0.245906  0.408555  0.237059\n",
      "2      1.313627  0.156159  0.070449  0.567059  0.408555  0.237059\n",
      "3      1.509911  0.635055  2.368149  0.567059  0.447299  1.001336\n",
      "4      0.937156  0.411091  0.474054  0.567059  0.408555  0.237059\n",
      "...         ...       ...       ...       ...       ...       ...\n",
      "31642  1.125392  0.450388  0.552724  0.245906  0.408555  0.237059\n",
      "31643  1.133439  0.324903  0.699635  0.245906  0.408555  0.237059\n",
      "31644  0.843038  0.347358  0.859979  0.075247  0.408555  0.237059\n",
      "31645  1.509911  0.376088  0.918319  1.359859  2.994723  4.716521\n",
      "31646  1.321675  0.383022  6.669728  0.245906  0.408555  0.237059\n",
      "\n",
      "[31647 rows x 6 columns]\n"
     ]
    },
    {
     "data": {
      "text/plain": [
       "(28124, 17)"
      ]
     },
     "execution_count": 29,
     "metadata": {},
     "output_type": "execute_result"
    }
   ],
   "source": [
    "\n",
    "z = np.abs(stats.zscore(train[['age','balance','duration','campaign','pdays','previous']]))\n",
    "print(z)\n",
    "train=train[(z<3).all(axis=1)]\n",
    "train.shape"
   ]
  },
  {
   "cell_type": "code",
   "execution_count": 30,
   "metadata": {
    "colab": {
     "base_uri": "https://localhost:8080/",
     "height": 309
    },
    "id": "oS2uQajGgEr5",
    "outputId": "9b7d5507-6287-4766-a10d-47227a6e138f"
   },
   "outputs": [
    {
     "data": {
      "image/png": "[encoded data removed]",
      "text/plain": [
       "<Figure size 1440x720 with 1 Axes>"
      ]
     },
     "metadata": {
      "needs_background": "light"
     },
     "output_type": "display_data"
    }
   ],
   "source": [
    "#checking outliers removed ot not\n",
    "plt.figure(figsize=(20,10))\n",
    "plt.subplot(3,3,1)\n",
    "sns.boxplot(train['age'])\n",
    "plt.title(\"Age\")\n",
    "plt.show()"
   ]
  },
  {
   "cell_type": "code",
   "execution_count": 41,
   "metadata": {},
   "outputs": [
    {
     "data": {
      "text/plain": [
       "Index(['age', 'job', 'marital', 'education', 'default', 'balance', 'housing',\n",
       "       'loan', 'contact', 'day', 'month', 'duration', 'campaign', 'pdays',\n",
       "       'previous', 'poutcome', 'subscribed'],\n",
       "      dtype='object')"
      ]
     },
     "execution_count": 41,
     "metadata": {},
     "output_type": "execute_result"
    }
   ],
   "source": [
    "train.columns"
   ]
  },
  {
   "cell_type": "markdown",
   "metadata": {},
   "source": [
    "## Scaling train data Using StandardScaler"
   ]
  },
  {
   "cell_type": "code",
   "execution_count": 43,
   "metadata": {},
   "outputs": [],
   "source": [
    "scaler = StandardScaler()\n",
    "features_to_scale =['age', 'job', 'marital', 'education', 'default', 'balance', 'housing',\n",
    "       'loan', 'contact', 'day', 'month', 'duration', 'campaign', 'pdays',\n",
    "       'previous', 'poutcome',]\n",
    "scaled_features = scaler.fit_transform(train[features_to_scale])\n",
    "scaled_df = train.copy()\n",
    "scaled_df[features_to_scale] = scaled_features"
   ]
  },
  {
   "cell_type": "code",
   "execution_count": 45,
   "metadata": {},
   "outputs": [
    {
     "data": {
      "text/html": [
       "<div>\n",
       "<style scoped>\n",
       "    .dataframe tbody tr th:only-of-type {\n",
       "        vertical-align: middle;\n",
       "    }\n",
       "\n",
       "    .dataframe tbody tr th {\n",
       "        vertical-align: top;\n",
       "    }\n",
       "\n",
       "    .dataframe thead th {\n",
       "        text-align: right;\n",
       "    }\n",
       "</style>\n",
       "<table border=\"1\" class=\"dataframe\">\n",
       "  <thead>\n",
       "    <tr style=\"text-align: right;\">\n",
       "      <th></th>\n",
       "      <th>age</th>\n",
       "      <th>job</th>\n",
       "      <th>marital</th>\n",
       "      <th>education</th>\n",
       "      <th>default</th>\n",
       "      <th>balance</th>\n",
       "      <th>housing</th>\n",
       "      <th>loan</th>\n",
       "      <th>contact</th>\n",
       "      <th>day</th>\n",
       "      <th>month</th>\n",
       "      <th>duration</th>\n",
       "      <th>campaign</th>\n",
       "      <th>pdays</th>\n",
       "      <th>previous</th>\n",
       "      <th>poutcome</th>\n",
       "      <th>subscribed</th>\n",
       "    </tr>\n",
       "  </thead>\n",
       "  <tbody>\n",
       "    <tr>\n",
       "      <th>0</th>\n",
       "      <td>1.522811</td>\n",
       "      <td>-1.277418</td>\n",
       "      <td>-0.276906</td>\n",
       "      <td>2.376931</td>\n",
       "      <td>-0.139916</td>\n",
       "      <td>0.494277</td>\n",
       "      <td>-1.106956</td>\n",
       "      <td>-0.447423</td>\n",
       "      <td>0.359876</td>\n",
       "      <td>0.374734</td>\n",
       "      <td>2.008403</td>\n",
       "      <td>-1.008335</td>\n",
       "      <td>-0.23551</td>\n",
       "      <td>-0.361901</td>\n",
       "      <td>-0.330792</td>\n",
       "      <td>0.377632</td>\n",
       "      <td>0</td>\n",
       "    </tr>\n",
       "    <tr>\n",
       "      <th>1</th>\n",
       "      <td>-0.957368</td>\n",
       "      <td>0.081926</td>\n",
       "      <td>-0.276906</td>\n",
       "      <td>-0.301360</td>\n",
       "      <td>-0.139916</td>\n",
       "      <td>-0.628157</td>\n",
       "      <td>-1.106956</td>\n",
       "      <td>-0.447423</td>\n",
       "      <td>-0.735486</td>\n",
       "      <td>0.493893</td>\n",
       "      <td>0.354372</td>\n",
       "      <td>-0.761252</td>\n",
       "      <td>-0.23551</td>\n",
       "      <td>-0.361901</td>\n",
       "      <td>-0.330792</td>\n",
       "      <td>0.377632</td>\n",
       "      <td>0</td>\n",
       "    </tr>\n",
       "    <tr>\n",
       "      <th>2</th>\n",
       "      <td>-1.354197</td>\n",
       "      <td>0.897533</td>\n",
       "      <td>-0.276906</td>\n",
       "      <td>-0.301360</td>\n",
       "      <td>-0.139916</td>\n",
       "      <td>-0.111721</td>\n",
       "      <td>0.903378</td>\n",
       "      <td>-0.447423</td>\n",
       "      <td>-0.735486</td>\n",
       "      <td>0.255575</td>\n",
       "      <td>0.354372</td>\n",
       "      <td>0.022055</td>\n",
       "      <td>-0.75208</td>\n",
       "      <td>-0.361901</td>\n",
       "      <td>-0.330792</td>\n",
       "      <td>0.377632</td>\n",
       "      <td>0</td>\n",
       "    </tr>\n",
       "    <tr>\n",
       "      <th>3</th>\n",
       "      <td>1.622018</td>\n",
       "      <td>-0.189943</td>\n",
       "      <td>-1.927894</td>\n",
       "      <td>1.037785</td>\n",
       "      <td>-0.139916</td>\n",
       "      <td>1.281726</td>\n",
       "      <td>-1.106956</td>\n",
       "      <td>-0.447423</td>\n",
       "      <td>-0.735486</td>\n",
       "      <td>0.732212</td>\n",
       "      <td>-0.059136</td>\n",
       "      <td>3.318250</td>\n",
       "      <td>-0.75208</td>\n",
       "      <td>0.846358</td>\n",
       "      <td>2.536730</td>\n",
       "      <td>-0.766204</td>\n",
       "      <td>1</td>\n",
       "    </tr>\n",
       "    <tr>\n",
       "      <th>4</th>\n",
       "      <td>-0.957368</td>\n",
       "      <td>1.441270</td>\n",
       "      <td>-0.276906</td>\n",
       "      <td>-0.301360</td>\n",
       "      <td>-0.139916</td>\n",
       "      <td>-0.560694</td>\n",
       "      <td>0.903378</td>\n",
       "      <td>-0.447423</td>\n",
       "      <td>-0.735486</td>\n",
       "      <td>-1.412653</td>\n",
       "      <td>-1.713166</td>\n",
       "      <td>0.758047</td>\n",
       "      <td>-0.75208</td>\n",
       "      <td>-0.361901</td>\n",
       "      <td>-0.330792</td>\n",
       "      <td>0.377632</td>\n",
       "      <td>0</td>\n",
       "    </tr>\n",
       "  </tbody>\n",
       "</table>\n",
       "</div>"
      ],
      "text/plain": [
       "        age       job   marital  education   default   balance   housing  \\\n",
       "0  1.522811 -1.277418 -0.276906   2.376931 -0.139916  0.494277 -1.106956   \n",
       "1 -0.957368  0.081926 -0.276906  -0.301360 -0.139916 -0.628157 -1.106956   \n",
       "2 -1.354197  0.897533 -0.276906  -0.301360 -0.139916 -0.111721  0.903378   \n",
       "3  1.622018 -0.189943 -1.927894   1.037785 -0.139916  1.281726 -1.106956   \n",
       "4 -0.957368  1.441270 -0.276906  -0.301360 -0.139916 -0.560694  0.903378   \n",
       "\n",
       "       loan   contact       day     month  duration  campaign     pdays  \\\n",
       "0 -0.447423  0.359876  0.374734  2.008403 -1.008335  -0.23551 -0.361901   \n",
       "1 -0.447423 -0.735486  0.493893  0.354372 -0.761252  -0.23551 -0.361901   \n",
       "2 -0.447423 -0.735486  0.255575  0.354372  0.022055  -0.75208 -0.361901   \n",
       "3 -0.447423 -0.735486  0.732212 -0.059136  3.318250  -0.75208  0.846358   \n",
       "4 -0.447423 -0.735486 -1.412653 -1.713166  0.758047  -0.75208 -0.361901   \n",
       "\n",
       "   previous  poutcome subscribed  \n",
       "0 -0.330792  0.377632          0  \n",
       "1 -0.330792  0.377632          0  \n",
       "2 -0.330792  0.377632          0  \n",
       "3  2.536730 -0.766204          1  \n",
       "4 -0.330792  0.377632          0  "
      ]
     },
     "execution_count": 45,
     "metadata": {},
     "output_type": "execute_result"
    }
   ],
   "source": [
    "scaled_df.head()"
   ]
  },
  {
   "cell_type": "markdown",
   "metadata": {},
   "source": [
    "Now training data looks good"
   ]
  },
  {
   "cell_type": "markdown",
   "metadata": {
    "id": "Hylt0wn1rvq1"
   },
   "source": [
    "## Test Data Cleaning"
   ]
  },
  {
   "cell_type": "code",
   "execution_count": 31,
   "metadata": {
    "id": "KYLnJBDKpl81"
   },
   "outputs": [],
   "source": [
    "test.drop('ID',axis=1,inplace=True)"
   ]
  },
  {
   "cell_type": "code",
   "execution_count": 32,
   "metadata": {
    "colab": {
     "base_uri": "https://localhost:8080/",
     "height": 206
    },
    "id": "y9nNFXlGpl_E",
    "outputId": "b5d673be-539e-4c17-eeb8-b5a5ed095a46"
   },
   "outputs": [
    {
     "data": {
      "text/html": [
       "<div>\n",
       "<style scoped>\n",
       "    .dataframe tbody tr th:only-of-type {\n",
       "        vertical-align: middle;\n",
       "    }\n",
       "\n",
       "    .dataframe tbody tr th {\n",
       "        vertical-align: top;\n",
       "    }\n",
       "\n",
       "    .dataframe thead th {\n",
       "        text-align: right;\n",
       "    }\n",
       "</style>\n",
       "<table border=\"1\" class=\"dataframe\">\n",
       "  <thead>\n",
       "    <tr style=\"text-align: right;\">\n",
       "      <th></th>\n",
       "      <th>age</th>\n",
       "      <th>job</th>\n",
       "      <th>marital</th>\n",
       "      <th>education</th>\n",
       "      <th>default</th>\n",
       "      <th>balance</th>\n",
       "      <th>housing</th>\n",
       "      <th>loan</th>\n",
       "      <th>contact</th>\n",
       "      <th>day</th>\n",
       "      <th>month</th>\n",
       "      <th>duration</th>\n",
       "      <th>campaign</th>\n",
       "      <th>pdays</th>\n",
       "      <th>previous</th>\n",
       "      <th>poutcome</th>\n",
       "    </tr>\n",
       "  </thead>\n",
       "  <tbody>\n",
       "    <tr>\n",
       "      <th>0</th>\n",
       "      <td>32</td>\n",
       "      <td>services</td>\n",
       "      <td>married</td>\n",
       "      <td>secondary</td>\n",
       "      <td>0</td>\n",
       "      <td>118</td>\n",
       "      <td>1</td>\n",
       "      <td>0</td>\n",
       "      <td>cellular</td>\n",
       "      <td>15</td>\n",
       "      <td>5</td>\n",
       "      <td>20</td>\n",
       "      <td>6</td>\n",
       "      <td>-1</td>\n",
       "      <td>0</td>\n",
       "      <td>unknown</td>\n",
       "    </tr>\n",
       "    <tr>\n",
       "      <th>1</th>\n",
       "      <td>78</td>\n",
       "      <td>retired</td>\n",
       "      <td>divorced</td>\n",
       "      <td>primary</td>\n",
       "      <td>0</td>\n",
       "      <td>2787</td>\n",
       "      <td>0</td>\n",
       "      <td>0</td>\n",
       "      <td>telephone</td>\n",
       "      <td>1</td>\n",
       "      <td>7</td>\n",
       "      <td>372</td>\n",
       "      <td>1</td>\n",
       "      <td>-1</td>\n",
       "      <td>0</td>\n",
       "      <td>unknown</td>\n",
       "    </tr>\n",
       "    <tr>\n",
       "      <th>2</th>\n",
       "      <td>31</td>\n",
       "      <td>self-employed</td>\n",
       "      <td>single</td>\n",
       "      <td>tertiary</td>\n",
       "      <td>0</td>\n",
       "      <td>144</td>\n",
       "      <td>1</td>\n",
       "      <td>0</td>\n",
       "      <td>unknown</td>\n",
       "      <td>16</td>\n",
       "      <td>5</td>\n",
       "      <td>676</td>\n",
       "      <td>1</td>\n",
       "      <td>-1</td>\n",
       "      <td>0</td>\n",
       "      <td>unknown</td>\n",
       "    </tr>\n",
       "    <tr>\n",
       "      <th>3</th>\n",
       "      <td>57</td>\n",
       "      <td>services</td>\n",
       "      <td>single</td>\n",
       "      <td>primary</td>\n",
       "      <td>0</td>\n",
       "      <td>3777</td>\n",
       "      <td>1</td>\n",
       "      <td>0</td>\n",
       "      <td>telephone</td>\n",
       "      <td>13</td>\n",
       "      <td>5</td>\n",
       "      <td>65</td>\n",
       "      <td>2</td>\n",
       "      <td>-1</td>\n",
       "      <td>0</td>\n",
       "      <td>unknown</td>\n",
       "    </tr>\n",
       "    <tr>\n",
       "      <th>4</th>\n",
       "      <td>45</td>\n",
       "      <td>blue-collar</td>\n",
       "      <td>divorced</td>\n",
       "      <td>secondary</td>\n",
       "      <td>0</td>\n",
       "      <td>-705</td>\n",
       "      <td>0</td>\n",
       "      <td>1</td>\n",
       "      <td>unknown</td>\n",
       "      <td>3</td>\n",
       "      <td>7</td>\n",
       "      <td>111</td>\n",
       "      <td>1</td>\n",
       "      <td>-1</td>\n",
       "      <td>0</td>\n",
       "      <td>unknown</td>\n",
       "    </tr>\n",
       "  </tbody>\n",
       "</table>\n",
       "</div>"
      ],
      "text/plain": [
       "   age            job   marital  education default  balance housing loan  \\\n",
       "0   32       services   married  secondary       0      118       1    0   \n",
       "1   78        retired  divorced    primary       0     2787       0    0   \n",
       "2   31  self-employed    single   tertiary       0      144       1    0   \n",
       "3   57       services    single    primary       0     3777       1    0   \n",
       "4   45    blue-collar  divorced  secondary       0     -705       0    1   \n",
       "\n",
       "     contact  day month  duration  campaign  pdays  previous poutcome  \n",
       "0   cellular   15     5        20         6     -1         0  unknown  \n",
       "1  telephone    1     7       372         1     -1         0  unknown  \n",
       "2    unknown   16     5       676         1     -1         0  unknown  \n",
       "3  telephone   13     5        65         2     -1         0  unknown  \n",
       "4    unknown    3     7       111         1     -1         0  unknown  "
      ]
     },
     "execution_count": 32,
     "metadata": {},
     "output_type": "execute_result"
    }
   ],
   "source": [
    "test[['default','housing','loan']]=test[['default','housing','loan']].replace([\"yes\",\"no\"],[\"1\",\"0\"])\n",
    "test['month']=test['month'].replace([\"jan\",\"feb\",\"mar\",\"apr\",\"may\",\"jun\",\"jul\", \"aug\",\"sep\",\"oct\",\"nov\",\"dec\"],[\"1\",\"2\",\"3\",\"4\",\"5\",\"6\",\"7\",\"8\",\"9\",\"10\",\"11\",\"12\"])\n",
    "test['job']=test['job'].replace(['unknown'],['other'])\n",
    "\n",
    "\n",
    "test.head()"
   ]
  },
  {
   "cell_type": "code",
   "execution_count": 33,
   "metadata": {
    "id": "PUOgE2JfpmBl"
   },
   "outputs": [],
   "source": [
    "le=LabelEncoder()\n",
    "test['job']=le.fit_transform(test['job'])\n",
    "test['education']=le.fit_transform(test['education'])\n",
    "test['poutcome']=le.fit_transform(test['poutcome'])\n",
    "test['marital']=le.fit_transform(test['marital'])\n",
    "test['contact']=le.fit_transform(test['contact'])"
   ]
  },
  {
   "cell_type": "code",
   "execution_count": 34,
   "metadata": {
    "colab": {
     "base_uri": "https://localhost:8080/",
     "height": 206
    },
    "id": "nOS7qjJLpmFn",
    "outputId": "ee3bda6e-a36b-4803-a0cf-000d0a80fbce"
   },
   "outputs": [
    {
     "data": {
      "text/html": [
       "<div>\n",
       "<style scoped>\n",
       "    .dataframe tbody tr th:only-of-type {\n",
       "        vertical-align: middle;\n",
       "    }\n",
       "\n",
       "    .dataframe tbody tr th {\n",
       "        vertical-align: top;\n",
       "    }\n",
       "\n",
       "    .dataframe thead th {\n",
       "        text-align: right;\n",
       "    }\n",
       "</style>\n",
       "<table border=\"1\" class=\"dataframe\">\n",
       "  <thead>\n",
       "    <tr style=\"text-align: right;\">\n",
       "      <th></th>\n",
       "      <th>age</th>\n",
       "      <th>job</th>\n",
       "      <th>marital</th>\n",
       "      <th>education</th>\n",
       "      <th>default</th>\n",
       "      <th>balance</th>\n",
       "      <th>housing</th>\n",
       "      <th>loan</th>\n",
       "      <th>contact</th>\n",
       "      <th>day</th>\n",
       "      <th>month</th>\n",
       "      <th>duration</th>\n",
       "      <th>campaign</th>\n",
       "      <th>pdays</th>\n",
       "      <th>previous</th>\n",
       "      <th>poutcome</th>\n",
       "    </tr>\n",
       "  </thead>\n",
       "  <tbody>\n",
       "    <tr>\n",
       "      <th>0</th>\n",
       "      <td>32</td>\n",
       "      <td>8</td>\n",
       "      <td>1</td>\n",
       "      <td>1</td>\n",
       "      <td>0</td>\n",
       "      <td>118</td>\n",
       "      <td>1</td>\n",
       "      <td>0</td>\n",
       "      <td>0</td>\n",
       "      <td>15</td>\n",
       "      <td>5</td>\n",
       "      <td>20</td>\n",
       "      <td>6</td>\n",
       "      <td>-1</td>\n",
       "      <td>0</td>\n",
       "      <td>3</td>\n",
       "    </tr>\n",
       "    <tr>\n",
       "      <th>1</th>\n",
       "      <td>78</td>\n",
       "      <td>6</td>\n",
       "      <td>0</td>\n",
       "      <td>0</td>\n",
       "      <td>0</td>\n",
       "      <td>2787</td>\n",
       "      <td>0</td>\n",
       "      <td>0</td>\n",
       "      <td>1</td>\n",
       "      <td>1</td>\n",
       "      <td>7</td>\n",
       "      <td>372</td>\n",
       "      <td>1</td>\n",
       "      <td>-1</td>\n",
       "      <td>0</td>\n",
       "      <td>3</td>\n",
       "    </tr>\n",
       "    <tr>\n",
       "      <th>2</th>\n",
       "      <td>31</td>\n",
       "      <td>7</td>\n",
       "      <td>2</td>\n",
       "      <td>2</td>\n",
       "      <td>0</td>\n",
       "      <td>144</td>\n",
       "      <td>1</td>\n",
       "      <td>0</td>\n",
       "      <td>2</td>\n",
       "      <td>16</td>\n",
       "      <td>5</td>\n",
       "      <td>676</td>\n",
       "      <td>1</td>\n",
       "      <td>-1</td>\n",
       "      <td>0</td>\n",
       "      <td>3</td>\n",
       "    </tr>\n",
       "    <tr>\n",
       "      <th>3</th>\n",
       "      <td>57</td>\n",
       "      <td>8</td>\n",
       "      <td>2</td>\n",
       "      <td>0</td>\n",
       "      <td>0</td>\n",
       "      <td>3777</td>\n",
       "      <td>1</td>\n",
       "      <td>0</td>\n",
       "      <td>1</td>\n",
       "      <td>13</td>\n",
       "      <td>5</td>\n",
       "      <td>65</td>\n",
       "      <td>2</td>\n",
       "      <td>-1</td>\n",
       "      <td>0</td>\n",
       "      <td>3</td>\n",
       "    </tr>\n",
       "    <tr>\n",
       "      <th>4</th>\n",
       "      <td>45</td>\n",
       "      <td>1</td>\n",
       "      <td>0</td>\n",
       "      <td>1</td>\n",
       "      <td>0</td>\n",
       "      <td>-705</td>\n",
       "      <td>0</td>\n",
       "      <td>1</td>\n",
       "      <td>2</td>\n",
       "      <td>3</td>\n",
       "      <td>7</td>\n",
       "      <td>111</td>\n",
       "      <td>1</td>\n",
       "      <td>-1</td>\n",
       "      <td>0</td>\n",
       "      <td>3</td>\n",
       "    </tr>\n",
       "  </tbody>\n",
       "</table>\n",
       "</div>"
      ],
      "text/plain": [
       "   age  job  marital  education default  balance housing loan  contact  day  \\\n",
       "0   32    8        1          1       0      118       1    0        0   15   \n",
       "1   78    6        0          0       0     2787       0    0        1    1   \n",
       "2   31    7        2          2       0      144       1    0        2   16   \n",
       "3   57    8        2          0       0     3777       1    0        1   13   \n",
       "4   45    1        0          1       0     -705       0    1        2    3   \n",
       "\n",
       "  month  duration  campaign  pdays  previous  poutcome  \n",
       "0     5        20         6     -1         0         3  \n",
       "1     7       372         1     -1         0         3  \n",
       "2     5       676         1     -1         0         3  \n",
       "3     5        65         2     -1         0         3  \n",
       "4     7       111         1     -1         0         3  "
      ]
     },
     "execution_count": 34,
     "metadata": {},
     "output_type": "execute_result"
    }
   ],
   "source": [
    "test.head()"
   ]
  },
  {
   "cell_type": "code",
   "execution_count": 37,
   "metadata": {},
   "outputs": [
    {
     "data": {
      "image/png": "[encoded data removed]",
      "text/plain": [
       "<Figure size 1440x1440 with 1 Axes>"
      ]
     },
     "metadata": {
      "needs_background": "light"
     },
     "output_type": "display_data"
    },
    {
     "data": {
      "image/png": "[encoded data removed]",
      "text/plain": [
       "<Figure size 1440x1440 with 1 Axes>"
      ]
     },
     "metadata": {
      "needs_background": "light"
     },
     "output_type": "display_data"
    },
    {
     "data": {
      "image/png": "[encoded data removed]",
      "text/plain": [
       "<Figure size 1440x1440 with 1 Axes>"
      ]
     },
     "metadata": {
      "needs_background": "light"
     },
     "output_type": "display_data"
    },
    {
     "data": {
      "image/png": "[encoded data removed]",
      "text/plain": [
       "<Figure size 1440x1440 with 1 Axes>"
      ]
     },
     "metadata": {
      "needs_background": "light"
     },
     "output_type": "display_data"
    },
    {
     "data": {
      "image/png": "[encoded data removed]",
      "text/plain": [
       "<Figure size 1440x1440 with 1 Axes>"
      ]
     },
     "metadata": {
      "needs_background": "light"
     },
     "output_type": "display_data"
    },
    {
     "data": {
      "image/png": "[encoded data removed]",
      "text/plain": [
       "<Figure size 1440x1440 with 1 Axes>"
      ]
     },
     "metadata": {
      "needs_background": "light"
     },
     "output_type": "display_data"
    },
    {
     "data": {
      "image/png": "[encoded data removed]",
      "text/plain": [
       "<Figure size 1440x1440 with 1 Axes>"
      ]
     },
     "metadata": {
      "needs_background": "light"
     },
     "output_type": "display_data"
    }
   ],
   "source": [
    "col=train[['age','balance','day','campaign','duration','pdays','previous']]\n",
    "for i in col:\n",
    "  n=1\n",
    "  plt.figure(figsize=(20,20))\n",
    "  plt.subplot(4,3,1)\n",
    "  sns.boxplot(train[i])\n",
    "  plt.title(i)\n",
    "  plt.show()\n",
    "  n=n+1"
   ]
  },
  {
   "cell_type": "markdown",
   "metadata": {},
   "source": [
    "Observation:\n",
    "- There are outliers present in my dataset"
   ]
  },
  {
   "cell_type": "code",
   "execution_count": 38,
   "metadata": {},
   "outputs": [
    {
     "name": "stdout",
     "output_type": "stream",
     "text": [
      "            age   balance  duration  campaign     pdays  previous\n",
      "0      0.838114  0.402389  0.921849  1.058702  0.418199  0.297500\n",
      "1      3.499987  0.463375  0.439963  0.574850  0.418199  0.297500\n",
      "2      0.932421  0.393955  1.616074  0.574850  0.418199  0.297500\n",
      "3      1.519549  0.784508  0.747754  0.248140  0.418199  0.297500\n",
      "4      0.387871  0.669352  0.569789  0.574850  0.418199  0.297500\n",
      "...         ...       ...       ...       ...       ...       ...\n",
      "13559  0.177969  0.426069  0.426644  0.405281  0.418199  0.297500\n",
      "13560  1.236630  0.299239  0.387957  0.574850  0.418199  0.297500\n",
      "13561  0.555195  0.348218  0.473070  0.574850  0.418199  0.297500\n",
      "13562  1.121034  0.290155  0.194517  0.248140  0.483926  1.203911\n",
      "13563  1.121034  0.440017  0.312293  0.574850  3.141273  0.202970\n",
      "\n",
      "[13564 rows x 6 columns]\n"
     ]
    },
    {
     "data": {
      "text/plain": [
       "(12034, 16)"
      ]
     },
     "execution_count": 38,
     "metadata": {},
     "output_type": "execute_result"
    }
   ],
   "source": [
    "z = np.abs(stats.zscore(test[['age','balance','duration','campaign','pdays','previous']]))\n",
    "print(z)\n",
    "test=test[(z<3).all(axis=1)]\n",
    "test.shape"
   ]
  },
  {
   "cell_type": "code",
   "execution_count": 39,
   "metadata": {},
   "outputs": [
    {
     "data": {
      "image/png": "[encoded data removed]",
      "text/plain": [
       "<Figure size 1440x720 with 1 Axes>"
      ]
     },
     "metadata": {
      "needs_background": "light"
     },
     "output_type": "display_data"
    }
   ],
   "source": [
    "#checking outliers removed ot not\n",
    "plt.figure(figsize=(20,10))\n",
    "plt.subplot(3,3,1)\n",
    "sns.boxplot(test['age'])\n",
    "plt.title(\"Age\")\n",
    "plt.show()"
   ]
  },
  {
   "cell_type": "markdown",
   "metadata": {},
   "source": [
    "## Scaling test data Using StandardScaler"
   ]
  },
  {
   "cell_type": "code",
   "execution_count": 46,
   "metadata": {},
   "outputs": [
    {
     "data": {
      "text/plain": [
       "Index(['age', 'job', 'marital', 'education', 'default', 'balance', 'housing',\n",
       "       'loan', 'contact', 'day', 'month', 'duration', 'campaign', 'pdays',\n",
       "       'previous', 'poutcome'],\n",
       "      dtype='object')"
      ]
     },
     "execution_count": 46,
     "metadata": {},
     "output_type": "execute_result"
    }
   ],
   "source": [
    "test.columns"
   ]
  },
  {
   "cell_type": "code",
   "execution_count": 47,
   "metadata": {},
   "outputs": [],
   "source": [
    "\n",
    "scaler = StandardScaler()\n",
    "features_to_scale =['age', 'job', 'marital', 'education', 'default', 'balance', 'housing',\n",
    "       'loan', 'contact', 'day', 'month', 'duration', 'campaign', 'pdays',\n",
    "       'previous', 'poutcome',]\n",
    "scaled_features = scaler.fit_transform(test[features_to_scale])\n",
    "test = test.copy()\n",
    "test[features_to_scale] = scaled_features"
   ]
  },
  {
   "cell_type": "code",
   "execution_count": 48,
   "metadata": {},
   "outputs": [
    {
     "data": {
      "text/html": [
       "<div>\n",
       "<style scoped>\n",
       "    .dataframe tbody tr th:only-of-type {\n",
       "        vertical-align: middle;\n",
       "    }\n",
       "\n",
       "    .dataframe tbody tr th {\n",
       "        vertical-align: top;\n",
       "    }\n",
       "\n",
       "    .dataframe thead th {\n",
       "        text-align: right;\n",
       "    }\n",
       "</style>\n",
       "<table border=\"1\" class=\"dataframe\">\n",
       "  <thead>\n",
       "    <tr style=\"text-align: right;\">\n",
       "      <th></th>\n",
       "      <th>age</th>\n",
       "      <th>job</th>\n",
       "      <th>marital</th>\n",
       "      <th>education</th>\n",
       "      <th>default</th>\n",
       "      <th>balance</th>\n",
       "      <th>housing</th>\n",
       "      <th>loan</th>\n",
       "      <th>contact</th>\n",
       "      <th>day</th>\n",
       "      <th>month</th>\n",
       "      <th>duration</th>\n",
       "      <th>campaign</th>\n",
       "      <th>pdays</th>\n",
       "      <th>previous</th>\n",
       "      <th>poutcome</th>\n",
       "    </tr>\n",
       "  </thead>\n",
       "  <tbody>\n",
       "    <tr>\n",
       "      <th>0</th>\n",
       "      <td>-0.857298</td>\n",
       "      <td>0.891260</td>\n",
       "      <td>-0.273350</td>\n",
       "      <td>-0.298454</td>\n",
       "      <td>-0.134234</td>\n",
       "      <td>-0.555996</td>\n",
       "      <td>0.897827</td>\n",
       "      <td>-0.436241</td>\n",
       "      <td>-0.725087</td>\n",
       "      <td>-0.085446</td>\n",
       "      <td>-0.473720</td>\n",
       "      <td>-1.131406</td>\n",
       "      <td>1.880869</td>\n",
       "      <td>-0.371972</td>\n",
       "      <td>-0.346263</td>\n",
       "      <td>0.390323</td>\n",
       "    </tr>\n",
       "    <tr>\n",
       "      <th>2</th>\n",
       "      <td>-0.956183</td>\n",
       "      <td>0.619434</td>\n",
       "      <td>1.368116</td>\n",
       "      <td>1.050250</td>\n",
       "      <td>-0.134234</td>\n",
       "      <td>-0.541070</td>\n",
       "      <td>0.897827</td>\n",
       "      <td>-0.436241</td>\n",
       "      <td>1.472546</td>\n",
       "      <td>0.035213</td>\n",
       "      <td>-0.473720</td>\n",
       "      <td>2.308206</td>\n",
       "      <td>-0.761852</td>\n",
       "      <td>-0.371972</td>\n",
       "      <td>-0.346263</td>\n",
       "      <td>0.390323</td>\n",
       "    </tr>\n",
       "    <tr>\n",
       "      <th>3</th>\n",
       "      <td>1.614839</td>\n",
       "      <td>0.891260</td>\n",
       "      <td>1.368116</td>\n",
       "      <td>-1.647159</td>\n",
       "      <td>-0.134234</td>\n",
       "      <td>1.544558</td>\n",
       "      <td>0.897827</td>\n",
       "      <td>-0.436241</td>\n",
       "      <td>0.373729</td>\n",
       "      <td>-0.326763</td>\n",
       "      <td>-0.473720</td>\n",
       "      <td>-0.895457</td>\n",
       "      <td>-0.233308</td>\n",
       "      <td>-0.371972</td>\n",
       "      <td>-0.346263</td>\n",
       "      <td>0.390323</td>\n",
       "    </tr>\n",
       "    <tr>\n",
       "      <th>4</th>\n",
       "      <td>0.428213</td>\n",
       "      <td>-1.011519</td>\n",
       "      <td>-1.914817</td>\n",
       "      <td>-0.298454</td>\n",
       "      <td>-0.134234</td>\n",
       "      <td>-1.028463</td>\n",
       "      <td>-1.113800</td>\n",
       "      <td>2.292308</td>\n",
       "      <td>1.472546</td>\n",
       "      <td>-1.533350</td>\n",
       "      <td>0.354877</td>\n",
       "      <td>-0.654265</td>\n",
       "      <td>-0.761852</td>\n",
       "      <td>-0.371972</td>\n",
       "      <td>-0.346263</td>\n",
       "      <td>0.390323</td>\n",
       "    </tr>\n",
       "    <tr>\n",
       "      <th>5</th>\n",
       "      <td>-0.857298</td>\n",
       "      <td>-0.196042</td>\n",
       "      <td>1.368116</td>\n",
       "      <td>1.050250</td>\n",
       "      <td>-0.134234</td>\n",
       "      <td>-0.623737</td>\n",
       "      <td>0.897827</td>\n",
       "      <td>-0.436241</td>\n",
       "      <td>-0.725087</td>\n",
       "      <td>0.759165</td>\n",
       "      <td>0.354877</td>\n",
       "      <td>1.149434</td>\n",
       "      <td>-0.233308</td>\n",
       "      <td>-0.371972</td>\n",
       "      <td>-0.346263</td>\n",
       "      <td>0.390323</td>\n",
       "    </tr>\n",
       "  </tbody>\n",
       "</table>\n",
       "</div>"
      ],
      "text/plain": [
       "        age       job   marital  education   default   balance   housing  \\\n",
       "0 -0.857298  0.891260 -0.273350  -0.298454 -0.134234 -0.555996  0.897827   \n",
       "2 -0.956183  0.619434  1.368116   1.050250 -0.134234 -0.541070  0.897827   \n",
       "3  1.614839  0.891260  1.368116  -1.647159 -0.134234  1.544558  0.897827   \n",
       "4  0.428213 -1.011519 -1.914817  -0.298454 -0.134234 -1.028463 -1.113800   \n",
       "5 -0.857298 -0.196042  1.368116   1.050250 -0.134234 -0.623737  0.897827   \n",
       "\n",
       "       loan   contact       day     month  duration  campaign     pdays  \\\n",
       "0 -0.436241 -0.725087 -0.085446 -0.473720 -1.131406  1.880869 -0.371972   \n",
       "2 -0.436241  1.472546  0.035213 -0.473720  2.308206 -0.761852 -0.371972   \n",
       "3 -0.436241  0.373729 -0.326763 -0.473720 -0.895457 -0.233308 -0.371972   \n",
       "4  2.292308  1.472546 -1.533350  0.354877 -0.654265 -0.761852 -0.371972   \n",
       "5 -0.436241 -0.725087  0.759165  0.354877  1.149434 -0.233308 -0.371972   \n",
       "\n",
       "   previous  poutcome  \n",
       "0 -0.346263  0.390323  \n",
       "2 -0.346263  0.390323  \n",
       "3 -0.346263  0.390323  \n",
       "4 -0.346263  0.390323  \n",
       "5 -0.346263  0.390323  "
      ]
     },
     "execution_count": 48,
     "metadata": {},
     "output_type": "execute_result"
    }
   ],
   "source": [
    "test.head()"
   ]
  },
  {
   "cell_type": "markdown",
   "metadata": {
    "id": "jugXHrBPss1v"
   },
   "source": [
    "Now test data is looking good"
   ]
  },
  {
   "cell_type": "markdown",
   "metadata": {
    "id": "7s6JIfBps9kd"
   },
   "source": [
    "## Splitting into feature and label"
   ]
  },
  {
   "cell_type": "code",
   "execution_count": 44,
   "metadata": {
    "id": "VMmQ6zEipmIL"
   },
   "outputs": [],
   "source": [
    "X = scaled_df.drop(['subscribed'], axis=1)\n",
    "y = scaled_df['subscribed']"
   ]
  },
  {
   "cell_type": "markdown",
   "metadata": {
    "id": "IQdiaPigxSHG"
   },
   "source": [
    "## Data Balancing Using SMOTE"
   ]
  },
  {
   "cell_type": "code",
   "execution_count": 49,
   "metadata": {
    "id": "3RzNjbs1pmKa"
   },
   "outputs": [],
   "source": [
    "smote = SMOTE()\n",
    "X_resampled, y_resampled = smote.fit_resample(X, y)"
   ]
  },
  {
   "cell_type": "code",
   "execution_count": 50,
   "metadata": {
    "colab": {
     "base_uri": "https://localhost:8080/"
    },
    "id": "UQWr9f7Yw6wd",
    "outputId": "cf324ea6-6950-4764-813e-86bbca4acce2"
   },
   "outputs": [
    {
     "data": {
      "text/plain": [
       "0    25264\n",
       "1    25264\n",
       "Name: subscribed, dtype: int64"
      ]
     },
     "execution_count": 50,
     "metadata": {},
     "output_type": "execute_result"
    }
   ],
   "source": [
    "y_resampled.value_counts()"
   ]
  },
  {
   "cell_type": "code",
   "execution_count": 51,
   "metadata": {
    "colab": {
     "base_uri": "https://localhost:8080/",
     "height": 112
    },
    "id": "Q_FWlQDuw6yq",
    "outputId": "4f805311-b5c0-4091-f32a-4732e663d2d7"
   },
   "outputs": [
    {
     "data": {
      "text/html": [
       "<div>\n",
       "<style scoped>\n",
       "    .dataframe tbody tr th:only-of-type {\n",
       "        vertical-align: middle;\n",
       "    }\n",
       "\n",
       "    .dataframe tbody tr th {\n",
       "        vertical-align: top;\n",
       "    }\n",
       "\n",
       "    .dataframe thead th {\n",
       "        text-align: right;\n",
       "    }\n",
       "</style>\n",
       "<table border=\"1\" class=\"dataframe\">\n",
       "  <thead>\n",
       "    <tr style=\"text-align: right;\">\n",
       "      <th></th>\n",
       "      <th>age</th>\n",
       "      <th>job</th>\n",
       "      <th>marital</th>\n",
       "      <th>education</th>\n",
       "      <th>default</th>\n",
       "      <th>balance</th>\n",
       "      <th>housing</th>\n",
       "      <th>loan</th>\n",
       "      <th>contact</th>\n",
       "      <th>day</th>\n",
       "      <th>month</th>\n",
       "      <th>duration</th>\n",
       "      <th>campaign</th>\n",
       "      <th>pdays</th>\n",
       "      <th>previous</th>\n",
       "      <th>poutcome</th>\n",
       "    </tr>\n",
       "  </thead>\n",
       "  <tbody>\n",
       "    <tr>\n",
       "      <th>0</th>\n",
       "      <td>1.522811</td>\n",
       "      <td>-1.277418</td>\n",
       "      <td>-0.276906</td>\n",
       "      <td>2.376931</td>\n",
       "      <td>-0.139916</td>\n",
       "      <td>0.494277</td>\n",
       "      <td>-1.106956</td>\n",
       "      <td>-0.447423</td>\n",
       "      <td>0.359876</td>\n",
       "      <td>0.374734</td>\n",
       "      <td>2.008403</td>\n",
       "      <td>-1.008335</td>\n",
       "      <td>-0.23551</td>\n",
       "      <td>-0.361901</td>\n",
       "      <td>-0.330792</td>\n",
       "      <td>0.377632</td>\n",
       "    </tr>\n",
       "    <tr>\n",
       "      <th>1</th>\n",
       "      <td>-0.957368</td>\n",
       "      <td>0.081926</td>\n",
       "      <td>-0.276906</td>\n",
       "      <td>-0.301360</td>\n",
       "      <td>-0.139916</td>\n",
       "      <td>-0.628157</td>\n",
       "      <td>-1.106956</td>\n",
       "      <td>-0.447423</td>\n",
       "      <td>-0.735486</td>\n",
       "      <td>0.493893</td>\n",
       "      <td>0.354372</td>\n",
       "      <td>-0.761252</td>\n",
       "      <td>-0.23551</td>\n",
       "      <td>-0.361901</td>\n",
       "      <td>-0.330792</td>\n",
       "      <td>0.377632</td>\n",
       "    </tr>\n",
       "  </tbody>\n",
       "</table>\n",
       "</div>"
      ],
      "text/plain": [
       "        age       job   marital  education   default   balance   housing  \\\n",
       "0  1.522811 -1.277418 -0.276906   2.376931 -0.139916  0.494277 -1.106956   \n",
       "1 -0.957368  0.081926 -0.276906  -0.301360 -0.139916 -0.628157 -1.106956   \n",
       "\n",
       "       loan   contact       day     month  duration  campaign     pdays  \\\n",
       "0 -0.447423  0.359876  0.374734  2.008403 -1.008335  -0.23551 -0.361901   \n",
       "1 -0.447423 -0.735486  0.493893  0.354372 -0.761252  -0.23551 -0.361901   \n",
       "\n",
       "   previous  poutcome  \n",
       "0 -0.330792  0.377632  \n",
       "1 -0.330792  0.377632  "
      ]
     },
     "execution_count": 51,
     "metadata": {},
     "output_type": "execute_result"
    }
   ],
   "source": [
    "X_resampled.head(2)"
   ]
  },
  {
   "cell_type": "markdown",
   "metadata": {
    "id": "UC6kzU7uxiXc"
   },
   "source": [
    "## Train Test Split"
   ]
  },
  {
   "cell_type": "code",
   "execution_count": 52,
   "metadata": {
    "id": "FlRjp-_Aw627"
   },
   "outputs": [],
   "source": [
    "X_train, X_test, y_train, y_test = train_test_split(X_resampled, y_resampled, test_size=0.2, stratify = y_resampled, random_state=42)"
   ]
  },
  {
   "cell_type": "markdown",
   "metadata": {
    "id": "JthOeVaCxnB3"
   },
   "source": [
    "## Model Training"
   ]
  },
  {
   "cell_type": "markdown",
   "metadata": {
    "id": "JELK1QjhxwGE"
   },
   "source": [
    "## Logistic Regression"
   ]
  },
  {
   "cell_type": "code",
   "execution_count": 53,
   "metadata": {
    "colab": {
     "base_uri": "https://localhost:8080/",
     "height": 954
    },
    "id": "oQx7IWBQxnMG",
    "outputId": "29b22ab2-32f8-4653-94dd-70e332a26a10"
   },
   "outputs": [
    {
     "name": "stdout",
     "output_type": "stream",
     "text": [
      "Logistic Regression with Hyperparameter Tuning:\n",
      "Classification Report:\n",
      "              precision    recall  f1-score   support\n",
      "\n",
      "           0       0.81      0.81      0.81      5053\n",
      "           1       0.81      0.81      0.81      5053\n",
      "\n",
      "    accuracy                           0.81     10106\n",
      "   macro avg       0.81      0.81      0.81     10106\n",
      "weighted avg       0.81      0.81      0.81     10106\n",
      "\n",
      "Cross-Validation Scores: [0.90204444 0.90506667 0.9024     0.89991111 0.9052276 ]\n",
      "Mean Cross-Validation Score: 0.9029299636478584\n"
     ]
    },
    {
     "data": {
      "image/png": "[encoded data removed]",
      "text/plain": [
       "<Figure size 288x144 with 1 Axes>"
      ]
     },
     "metadata": {
      "needs_background": "light"
     },
     "output_type": "display_data"
    },
    {
     "name": "stdout",
     "output_type": "stream",
     "text": [
      "ROC AUC Score: 0.8851615190479042\n"
     ]
    },
    {
     "data": {
      "image/png": "[encoded data removed]",
      "text/plain": [
       "<Figure size 432x288 with 1 Axes>"
      ]
     },
     "metadata": {
      "needs_background": "light"
     },
     "output_type": "display_data"
    }
   ],
   "source": [
    "# Define the parameter grid\n",
    "param_grid = {\n",
    "    'C': [0.1, 1, 10],\n",
    "    'penalty': ['l1', 'l2'],\n",
    "    'solver': ['liblinear', 'saga']\n",
    "}\n",
    "\n",
    "# Create the Logistic Regression Classifier\n",
    "LG = LogisticRegression()\n",
    "\n",
    "# Create the grid search object\n",
    "grid_search = GridSearchCV(LG, param_grid, cv=5)\n",
    "\n",
    "# Fit the grid search to the training data\n",
    "grid_search.fit(X_train, y_train)\n",
    "\n",
    "# Get the best parameters and score\n",
    "best_params = grid_search.best_params_\n",
    "best_score = grid_search.best_score_\n",
    "\n",
    "# Create the Logistic Regression Classifier with the best parameters\n",
    "best_LG = LogisticRegression(**best_params)\n",
    "\n",
    "# Fit the model on the training data\n",
    "best_LG.fit(X_train, y_train)\n",
    "\n",
    "# Make predictions on the test set\n",
    "LG_y_pred = best_LG.predict(X_test)\n",
    "\n",
    "print(\"Logistic Regression with Hyperparameter Tuning:\")\n",
    "# Classification Report\n",
    "print(\"Classification Report:\")\n",
    "print(classification_report(y_test, LG_y_pred))\n",
    "\n",
    "# Cross-Validation Score\n",
    "scores = cross_val_score(best_LG, X, y, cv=5)\n",
    "print(\"Cross-Validation Scores:\", scores)\n",
    "mean_score = scores.mean()\n",
    "print(\"Mean Cross-Validation Score:\", mean_score)\n",
    "\n",
    "# Plot confusion matrix as a heatmap\n",
    "cm = confusion_matrix(y_test, LG_y_pred)\n",
    "plt.figure(figsize=(4, 2))\n",
    "sns.heatmap(cm, annot=True, fmt=\"d\", cmap=\"YlGnBu\", cbar=False)\n",
    "plt.title(\"Confusion Matrix - Logistic Regression\")\n",
    "plt.xlabel(\"Predicted\")\n",
    "plt.ylabel(\"Actual\")\n",
    "plt.show()\n",
    "\n",
    "\n",
    "#ROC AUC Score\n",
    "y_prob = best_LG.predict_proba(X_test)[:, 1]\n",
    "auc_score = roc_auc_score(y_test, y_prob)\n",
    "print(\"ROC AUC Score:\", auc_score)\n",
    "\n",
    "\n",
    "## ROC Curve\n",
    "fpr, tpr, thresholds = roc_curve(y_test, y_prob, pos_label='1')\n",
    "plt.plot(fpr, tpr, label='ROC Curve (AUC = {:.2f})'.format(auc_score))\n",
    "plt.plot([0, 1], [0, 1], 'r--')\n",
    "plt.xlabel('False Positive Rate')\n",
    "plt.ylabel('True Positive Rate')\n",
    "plt.title('Receiver Operating Characteristic (ROC) Curve')\n",
    "plt.legend(loc='lower right')\n",
    "plt.show()"
   ]
  },
  {
   "cell_type": "markdown",
   "metadata": {},
   "source": [
    "## DecisionTree Classifier"
   ]
  },
  {
   "cell_type": "code",
   "execution_count": 54,
   "metadata": {
    "colab": {
     "base_uri": "https://localhost:8080/",
     "height": 954
    },
    "id": "VH5TPOS3xnOi",
    "outputId": "db0a63a8-975f-4f64-b9e2-247adfbd7e41"
   },
   "outputs": [
    {
     "name": "stdout",
     "output_type": "stream",
     "text": [
      "Decision Tree Classifier with Hyperparameter Tuning:\n",
      "Classification Report:\n",
      "              precision    recall  f1-score   support\n",
      "\n",
      "           0       0.93      0.92      0.92      5053\n",
      "           1       0.92      0.93      0.92      5053\n",
      "\n",
      "    accuracy                           0.92     10106\n",
      "   macro avg       0.92      0.92      0.92     10106\n",
      "weighted avg       0.92      0.92      0.92     10106\n",
      "\n",
      "Cross-Validation Scores: [0.88942222 0.88533333 0.8864     0.88693333 0.89260313]\n",
      "Mean Cross-Validation Score: 0.8881384036668247\n"
     ]
    },
    {
     "data": {
      "image/png": "[encoded data removed]",
      "text/plain": [
       "<Figure size 288x144 with 1 Axes>"
      ]
     },
     "metadata": {
      "needs_background": "light"
     },
     "output_type": "display_data"
    },
    {
     "name": "stdout",
     "output_type": "stream",
     "text": [
      "ROC AUC Score: 0.9244013457352068\n"
     ]
    },
    {
     "data": {
      "image/png": "[encoded data removed]",
      "text/plain": [
       "<Figure size 432x288 with 1 Axes>"
      ]
     },
     "metadata": {
      "needs_background": "light"
     },
     "output_type": "display_data"
    }
   ],
   "source": [
    "# Define the parameter grid\n",
    "param_grid = {\n",
    "    'max_depth': [None, 5, 10],\n",
    "    'min_samples_split': [2, 5, 10]\n",
    "}\n",
    "\n",
    "# Create the Decision Tree Classifier\n",
    "dt = DecisionTreeClassifier()\n",
    "\n",
    "# Create the grid search object\n",
    "grid_search = GridSearchCV(dt, param_grid, cv=5)\n",
    "\n",
    "# Fit the grid search to the training data\n",
    "grid_search.fit(X_train, y_train)\n",
    "\n",
    "# Get the best parameters and score\n",
    "best_params = grid_search.best_params_\n",
    "best_score = grid_search.best_score_\n",
    "\n",
    "# Create the Decision Tree Classifier with the best parameters\n",
    "best_dt = DecisionTreeClassifier(**best_params)\n",
    "\n",
    "# Fit the model on the training data\n",
    "best_dt.fit(X_train, y_train)\n",
    "\n",
    "# Make predictions on the test set\n",
    "dt_y_pred = best_dt.predict(X_test)\n",
    "\n",
    "print(\"Decision Tree Classifier with Hyperparameter Tuning:\")\n",
    "# Classification Report\n",
    "print(\"Classification Report:\")\n",
    "print(classification_report(y_test, dt_y_pred))\n",
    "\n",
    "# Cross-Validation Score\n",
    "scores = cross_val_score(best_dt, X, y, cv=5)\n",
    "print(\"Cross-Validation Scores:\", scores)\n",
    "mean_score = scores.mean()\n",
    "print(\"Mean Cross-Validation Score:\", mean_score)\n",
    "\n",
    "# Plot confusion matrix as a heatmap\n",
    "cm = confusion_matrix(y_test, dt_y_pred)\n",
    "plt.figure(figsize=(4, 2))\n",
    "sns.heatmap(cm, annot=True, fmt=\"d\", cmap=\"YlGnBu\", cbar=False)\n",
    "plt.title(\"Confusion Matrix - Decision Tree Classifier\")\n",
    "plt.xlabel(\"Predicted\")\n",
    "plt.ylabel(\"Actual\")\n",
    "plt.show()\n",
    "\n",
    "\n",
    "#ROC AUC Score\n",
    "y_prob = best_dt.predict_proba(X_test)[:, 1]\n",
    "auc_score = roc_auc_score(y_test, y_prob)\n",
    "print(\"ROC AUC Score:\", auc_score)\n",
    "\n",
    "\n",
    "#ROC Curve\n",
    "fpr, tpr, thresholds = roc_curve(y_test, y_prob, pos_label='1')\n",
    "plt.plot(fpr, tpr, label='ROC Curve (AUC = {:.2f})'.format(auc_score))\n",
    "plt.plot([0, 1], [0, 1], 'r--')\n",
    "plt.xlabel('False Positive Rate')\n",
    "plt.ylabel('True Positive Rate')\n",
    "plt.title('Receiver Operating Characteristic (ROC) Curve')\n",
    "plt.legend(loc='lower right')\n",
    "plt.show()"
   ]
  },
  {
   "cell_type": "markdown",
   "metadata": {},
   "source": [
    "## Random Forest Classifier"
   ]
  },
  {
   "cell_type": "code",
   "execution_count": 55,
   "metadata": {
    "colab": {
     "base_uri": "https://localhost:8080/",
     "height": 954
    },
    "id": "JUBlfR8LxnRV",
    "outputId": "d5029bc0-8a2f-4fb9-872d-10e880dbc929"
   },
   "outputs": [
    {
     "name": "stdout",
     "output_type": "stream",
     "text": [
      "Random Forest Classifier with Hyperparameter Tuning:\n",
      "Classification Report:\n",
      "              precision    recall  f1-score   support\n",
      "\n",
      "           0       0.97      0.94      0.96      5053\n",
      "           1       0.95      0.97      0.96      5053\n",
      "\n",
      "    accuracy                           0.96     10106\n",
      "   macro avg       0.96      0.96      0.96     10106\n",
      "weighted avg       0.96      0.96      0.96     10106\n",
      "\n",
      "Cross-Validation Scores: [0.91591111 0.91644444 0.91235556 0.91466667 0.91625178]\n",
      "Mean Cross-Validation Score: 0.9151259111743322\n"
     ]
    },
    {
     "data": {
      "image/png": "[encoded data removed]",
      "text/plain": [
       "<Figure size 288x144 with 1 Axes>"
      ]
     },
     "metadata": {
      "needs_background": "light"
     },
     "output_type": "display_data"
    },
    {
     "name": "stdout",
     "output_type": "stream",
     "text": [
      "ROC AUC Score: 0.9937029842662436\n"
     ]
    },
    {
     "data": {
      "image/png": "[encoded data removed]",
      "text/plain": [
       "<Figure size 432x288 with 1 Axes>"
      ]
     },
     "metadata": {
      "needs_background": "light"
     },
     "output_type": "display_data"
    }
   ],
   "source": [
    "# Define the parameter grid\n",
    "param_grid = {\n",
    "    'n_estimators': [50, 100, 200],\n",
    "    'max_depth': [None, 5, 10],\n",
    "    'min_samples_split': [2, 5, 10]\n",
    "}\n",
    "\n",
    "# Create the Random Forest Classifier\n",
    "RF = RandomForestClassifier()\n",
    "\n",
    "# Create the grid search object\n",
    "grid_search = GridSearchCV(RF, param_grid, cv=5)\n",
    "\n",
    "# Fit the grid search to the training data\n",
    "grid_search.fit(X_train, y_train)\n",
    "\n",
    "# Get the best parameters and score\n",
    "best_params = grid_search.best_params_\n",
    "best_score = grid_search.best_score_\n",
    "\n",
    "# Create the Random Forest Classifier with the best parameters\n",
    "best_RF = RandomForestClassifier(**best_params)\n",
    "\n",
    "# Fit the model on the training data\n",
    "best_RF.fit(X_train, y_train)\n",
    "\n",
    "# Make predictions on the test set\n",
    "RF_y_pred = best_RF.predict(X_test)\n",
    "\n",
    "print(\"Random Forest Classifier with Hyperparameter Tuning:\")\n",
    "# Classification Report\n",
    "print(\"Classification Report:\")\n",
    "print(classification_report(y_test, RF_y_pred))\n",
    "\n",
    "# Cross-Validation Score\n",
    "scores = cross_val_score(best_RF, X, y, cv=5)\n",
    "print(\"Cross-Validation Scores:\", scores)\n",
    "mean_score = scores.mean()\n",
    "print(\"Mean Cross-Validation Score:\", mean_score)\n",
    "\n",
    "# Plot confusion matrix as a heatmap\n",
    "cm = confusion_matrix(y_test, RF_y_pred)\n",
    "plt.figure(figsize=(4, 2))\n",
    "sns.heatmap(cm, annot=True, fmt=\"d\", cmap=\"YlGnBu\", cbar=False)\n",
    "plt.title(\"Confusion Matrix - Random Forest Classifier\")\n",
    "plt.xlabel(\"Predicted\")\n",
    "plt.ylabel(\"Actual\")\n",
    "plt.show()\n",
    "\n",
    "#ROC AUC Score\n",
    "y_prob = best_RF.predict_proba(X_test)[:, 1]\n",
    "auc_score = roc_auc_score(y_test, y_prob)\n",
    "print(\"ROC AUC Score:\", auc_score)\n",
    "\n",
    "#roc_curve\n",
    "fpr, tpr, thresholds = roc_curve(y_test, y_prob, pos_label='1')\n",
    "plt.plot(fpr, tpr, label='ROC Curve (AUC = {:.2f})'.format(auc_score))\n",
    "plt.plot([0, 1], [0, 1], 'r--')\n",
    "plt.xlabel('False Positive Rate')\n",
    "plt.ylabel('True Positive Rate')\n",
    "plt.title('Receiver Operating Characteristic (ROC) Curve')\n",
    "plt.legend(loc='lower right')\n",
    "plt.show()"
   ]
  },
  {
   "cell_type": "markdown",
   "metadata": {},
   "source": [
    "## Creating dataset Of all Models"
   ]
  },
  {
   "cell_type": "code",
   "execution_count": 56,
   "metadata": {
    "colab": {
     "base_uri": "https://localhost:8080/"
    },
    "id": "kp3SH_iJxnTq",
    "outputId": "49df6bd2-2ce8-479b-b1c1-42edb1a22a42"
   },
   "outputs": [
    {
     "name": "stdout",
     "output_type": "stream",
     "text": [
      "                 Model Name  Accuracy Score\n",
      "1  Random Forest Classifier        0.958342\n",
      "2  Decision Tree Classifier        0.924401\n",
      "3       Logistic Regression        0.811201\n"
     ]
    }
   ],
   "source": [
    "# Create a list of model names\n",
    "model_names = [ 'Random Forest Classifier', 'Decision Tree Classifier', 'Logistic Regression']\n",
    "\n",
    "# Create a list of models and their corresponding accuracy scores\n",
    "models = [ RF, dt, LG]\n",
    "accuracy_scores = [ accuracy_score(y_test, RF_y_pred), accuracy_score(y_test, dt_y_pred), accuracy_score(y_test, LG_y_pred)]\n",
    "\n",
    "# Create a dataframe with model name and accuracy score\n",
    "df = pd.DataFrame({'Model Name': model_names, 'Accuracy Score': accuracy_scores})\n",
    "\n",
    "# Sort the dataframe by accuracy score in descending order\n",
    "df = df.sort_values('Accuracy Score', ascending=False)\n",
    "\n",
    "# Print the dataframe\n",
    "df.index = range(1, len(df)+1)\n",
    "print(df)\n"
   ]
  },
  {
   "cell_type": "markdown",
   "metadata": {},
   "source": [
    "## predicting test data based on training data using  best model"
   ]
  },
  {
   "cell_type": "code",
   "execution_count": 57,
   "metadata": {
    "colab": {
     "base_uri": "https://localhost:8080/"
    },
    "id": "FHxxpm01xnW_",
    "outputId": "2693caa3-7325-4262-edc2-3638249aa989"
   },
   "outputs": [
    {
     "data": {
      "text/plain": [
       "array(['0', '1', '0', ..., '0', '0', '1'], dtype=object)"
      ]
     },
     "execution_count": 57,
     "metadata": {},
     "output_type": "execute_result"
    }
   ],
   "source": [
    "test_pred = best_RF.predict(test)\n",
    "test_pred"
   ]
  },
  {
   "cell_type": "markdown",
   "metadata": {},
   "source": [
    " Here 0=no, 1=yes"
   ]
  },
  {
   "cell_type": "markdown",
   "metadata": {},
   "source": [
    "## Saving model"
   ]
  },
  {
   "cell_type": "code",
   "execution_count": 58,
   "metadata": {
    "id": "hge1xCB-xnaX"
   },
   "outputs": [],
   "source": [
    "import pickle\n",
    "with open('best_model','wb') as f:\n",
    "    pickle.dump(best_RF,f)"
   ]
  },
  {
   "cell_type": "code",
   "execution_count": 59,
   "metadata": {},
   "outputs": [],
   "source": [
    "pickle.dump(scaler, open('scaler.pkl','wb'))"
   ]
  },
  {
   "cell_type": "markdown",
   "metadata": {
    "id": "gRfKX9phxneB"
   },
   "source": [
    "# Project Completed"
   ]
  },
  {
   "cell_type": "code",
   "execution_count": null,
   "metadata": {},
   "outputs": [],
   "source": []
  }
 ],
 "metadata": {
  "colab": {
   "provenance": []
  },
  "kernelspec": {
   "display_name": "Python 3 (ipykernel)",
   "language": "python",
   "name": "python3"
  },
  "language_info": {
   "codemirror_mode": {
    "name": "ipython",
    "version": 3
   },
   "file_extension": ".py",
   "mimetype": "text/x-python",
   "name": "python",
   "nbconvert_exporter": "python",
   "pygments_lexer": "ipython3",
   "version": "3.9.12"
  }
 },
 "nbformat": 4,
 "nbformat_minor": 1
}

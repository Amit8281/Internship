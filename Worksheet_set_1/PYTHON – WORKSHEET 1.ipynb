{
 "cells": [
  {
   "cell_type": "markdown",
   "id": "5cb2dfc7",
   "metadata": {},
   "source": [
    "## Q11.Write a python program to find the factorial of a number."
   ]
  },
  {
   "cell_type": "code",
   "execution_count": 2,
   "id": "0d8c81f5",
   "metadata": {},
   "outputs": [
    {
     "name": "stdout",
     "output_type": "stream",
     "text": [
      "Enter a number: 5\n",
      "The factorial of 5 is 120\n"
     ]
    }
   ],
   "source": [
    "def factorial(n):\n",
    "    if n == 0:\n",
    "        return 1\n",
    "    else:\n",
    "        return n * factorial(n-1)\n",
    "\n",
    "# Take input from the user\n",
    "num = int(input(\"Enter a number: \"))\n",
    "\n",
    "# Check if the number is negative, positive or zero\n",
    "if num < 0:\n",
    "    print(\"Factorial cannot be found for negative numbers\")\n",
    "elif num == 0:\n",
    "    print(\"The factorial of 0 is 1\")\n",
    "else:\n",
    "    print(\"The factorial of\", num, \"is\", factorial(num))\n"
   ]
  },
  {
   "cell_type": "markdown",
   "id": "38a35013",
   "metadata": {},
   "source": [
    "## Q12.Write a python program to find whether a number is prime or composite."
   ]
  },
  {
   "cell_type": "code",
   "execution_count": 8,
   "id": "0fd07f07",
   "metadata": {},
   "outputs": [
    {
     "name": "stdout",
     "output_type": "stream",
     "text": [
      "True\n",
      "False\n",
      "True\n"
     ]
    }
   ],
   "source": [
    "def is_prime(n):\n",
    "#This function takes a number n and returns True if it is prime, False otherwise.\n",
    "    if n <= 1:\n",
    "        return False\n",
    "\n",
    "    for i in range(2, int(n**0.5) + 1):\n",
    "        if n % i == 0:\n",
    "            return False\n",
    "\n",
    "    return True\n",
    "\n",
    "\n",
    "# Test the function with some sample inputs\n",
    "print(is_prime(3))   \n",
    "print(is_prime(15)) \n",
    "print(is_prime(7))\n"
   ]
  },
  {
   "cell_type": "markdown",
   "id": "a7a36798",
   "metadata": {},
   "source": [
    "## Q13.Write a python program to check whether a given string is palindrome or not."
   ]
  },
  {
   "cell_type": "code",
   "execution_count": 9,
   "id": "49e36327",
   "metadata": {},
   "outputs": [
    {
     "name": "stdout",
     "output_type": "stream",
     "text": [
      "True\n",
      "False\n",
      "False\n"
     ]
    }
   ],
   "source": [
    "def is_palindrome(string):\n",
    "#This function takes a string and returns True if it is a palindrome, False otherwise.\n",
    "    string = string.lower()    # Convert the string to lowercase to ignore case sensitivity\n",
    "    reversed_string = string[::-1]   # Reverse the string using slicing\n",
    "    if string == reversed_string:\n",
    "        return True\n",
    "    else:\n",
    "        return False\n",
    "\n",
    "\n",
    "# Test the function with some sample inputs\n",
    "print(is_palindrome(\"racecar\"))     \n",
    "print(is_palindrome(\"hello\"))      \n",
    "print(is_palindrome(\"Was it a car or a cat I saw\"))  \n"
   ]
  },
  {
   "cell_type": "markdown",
   "id": "a08bc1f3",
   "metadata": {},
   "source": [
    "## Q14.Write a Python program to get the third side of right-angled triangle from two given sides."
   ]
  },
  {
   "cell_type": "code",
   "execution_count": 10,
   "id": "aac91799",
   "metadata": {},
   "outputs": [
    {
     "name": "stdout",
     "output_type": "stream",
     "text": [
      "5.0\n",
      "13.0\n"
     ]
    }
   ],
   "source": [
    "def find_hypotenuse(a, b):\n",
    "#This function takes the lengths of two sides of a right-angled triangle and returns the length of the hypotenuse.\n",
    "    c = (a**2 + b**2) ** 0.5    # Calculate the length of the hypotenuse using the formula\n",
    "    return c\n",
    "\n",
    "\n",
    "# Test the function with some sample inputs\n",
    "print(find_hypotenuse(3, 4))    \n",
    "print(find_hypotenuse(5, 12))   \n"
   ]
  },
  {
   "cell_type": "markdown",
   "id": "e7b61849",
   "metadata": {},
   "source": [
    "## Q15.Write a python program to print the frequency of each of the characters present in a given string."
   ]
  },
  {
   "cell_type": "code",
   "execution_count": 12,
   "id": "46dd5fea",
   "metadata": {},
   "outputs": [
    {
     "name": "stdout",
     "output_type": "stream",
     "text": [
      "a: 2\n",
      "m: 2\n",
      "i: 1\n",
      "t: 1\n",
      " : 1\n",
      "k: 1\n",
      "u: 1\n",
      "r: 1\n"
     ]
    }
   ],
   "source": [
    "def character_frequency(string):\n",
    " # This function takes a string and prints the frequency of each character\n",
    "\n",
    "    # Create an empty dictionary to store the frequency of each character\n",
    "    frequency = {}\n",
    "\n",
    "    # Iterate through the string and count the number of occurrences of each character\n",
    "    for char in string:\n",
    "        if char in frequency:\n",
    "            frequency[char] += 1\n",
    "        else:\n",
    "            frequency[char] = 1\n",
    "\n",
    "    # Print the frequency of each character\n",
    "    for key, value in frequency.items():\n",
    "        print(f\"{key}: {value}\")\n",
    "\n",
    "\n",
    "# Test the function with some sample inputs\n",
    "character_frequency(\"amit kumar\") \n",
    "\n"
   ]
  },
  {
   "cell_type": "code",
   "execution_count": null,
   "id": "4f60bab9",
   "metadata": {},
   "outputs": [],
   "source": []
  }
 ],
 "metadata": {
  "kernelspec": {
   "display_name": "Python 3 (ipykernel)",
   "language": "python",
   "name": "python3"
  },
  "language_info": {
   "codemirror_mode": {
    "name": "ipython",
    "version": 3
   },
   "file_extension": ".py",
   "mimetype": "text/x-python",
   "name": "python",
   "nbconvert_exporter": "python",
   "pygments_lexer": "ipython3",
   "version": "3.9.12"
  }
 },
 "nbformat": 4,
 "nbformat_minor": 5
}
